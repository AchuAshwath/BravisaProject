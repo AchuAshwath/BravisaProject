{
 "cells": [
  {
   "cell_type": "code",
   "execution_count": 1,
   "metadata": {},
   "outputs": [
    {
     "name": "stderr",
     "output_type": "stream",
     "text": [
      "WARNING: Ignoring invalid distribution -atplotlib (c:\\users\\admin\\anaconda3\\lib\\site-packages)\n"
     ]
    }
   ],
   "source": [
    "!pip freeze > requirements.txt"
   ]
  },
  {
   "cell_type": "code",
   "execution_count": 15,
   "metadata": {},
   "outputs": [
    {
     "data": {
      "text/html": [
       "<div>\n",
       "<style scoped>\n",
       "    .dataframe tbody tr th:only-of-type {\n",
       "        vertical-align: middle;\n",
       "    }\n",
       "\n",
       "    .dataframe tbody tr th {\n",
       "        vertical-align: top;\n",
       "    }\n",
       "\n",
       "    .dataframe thead th {\n",
       "        text-align: right;\n",
       "    }\n",
       "</style>\n",
       "<table border=\"1\" class=\"dataframe\">\n",
       "  <thead>\n",
       "    <tr style=\"text-align: right;\">\n",
       "      <th></th>\n",
       "      <th>Unnamed: 0</th>\n",
       "      <th>SchemeCode</th>\n",
       "      <th>SecurityCode</th>\n",
       "      <th>SchemePlanCode</th>\n",
       "      <th>SchemePlanDescription</th>\n",
       "      <th>MappingCode</th>\n",
       "      <th>MappingName</th>\n",
       "      <th>IssuePrice</th>\n",
       "      <th>Description</th>\n",
       "      <th>IssueDate</th>\n",
       "      <th>...</th>\n",
       "      <th>ISINCode</th>\n",
       "      <th>BenchMarkIndex</th>\n",
       "      <th>BenchMarkIndexName</th>\n",
       "      <th>ModifiedDate</th>\n",
       "      <th>DeleteFlag</th>\n",
       "      <th>scheme_name</th>\n",
       "      <th>scheme_category</th>\n",
       "      <th>date</th>\n",
       "      <th>btt_scheme_code</th>\n",
       "      <th>btt_scheme_category</th>\n",
       "    </tr>\n",
       "  </thead>\n",
       "  <tbody>\n",
       "    <tr>\n",
       "      <th>0</th>\n",
       "      <td>1</td>\n",
       "      <td>1.405000e+07</td>\n",
       "      <td>1.405000e+07</td>\n",
       "      <td>2066</td>\n",
       "      <td>Growth</td>\n",
       "      <td>100656</td>\n",
       "      <td>UTI - Master Plus Unit Scheme-Growth Option</td>\n",
       "      <td>0.0</td>\n",
       "      <td>UTI Master Plus 91 Unit Scheme</td>\n",
       "      <td>NaN</td>\n",
       "      <td>...</td>\n",
       "      <td>NaN</td>\n",
       "      <td>1.702393e+07</td>\n",
       "      <td>S&amp;P BSE Sensex</td>\n",
       "      <td>2015-12-15 19:12:12</td>\n",
       "      <td>True</td>\n",
       "      <td>NaN</td>\n",
       "      <td>NaN</td>\n",
       "      <td>NaN</td>\n",
       "      <td>NaN</td>\n",
       "      <td>NaN</td>\n",
       "    </tr>\n",
       "    <tr>\n",
       "      <th>1</th>\n",
       "      <td>2</td>\n",
       "      <td>1.405000e+07</td>\n",
       "      <td>1.405000e+07</td>\n",
       "      <td>2066</td>\n",
       "      <td>Growth</td>\n",
       "      <td>100651</td>\n",
       "      <td>UTI - Master Share-Growth Option</td>\n",
       "      <td>0.0</td>\n",
       "      <td>UTI Mastershare</td>\n",
       "      <td>NaN</td>\n",
       "      <td>...</td>\n",
       "      <td>NaN</td>\n",
       "      <td>1.702393e+07</td>\n",
       "      <td>S&amp;P BSE 100 Total Return</td>\n",
       "      <td>2020-01-08 19:49:52</td>\n",
       "      <td>False</td>\n",
       "      <td>UTI Mastershare</td>\n",
       "      <td>Equity-LargeCap</td>\n",
       "      <td>2019-09-04</td>\n",
       "      <td>UTIMASHARE-G</td>\n",
       "      <td>Large Cap</td>\n",
       "    </tr>\n",
       "    <tr>\n",
       "      <th>2</th>\n",
       "      <td>4</td>\n",
       "      <td>1.405000e+07</td>\n",
       "      <td>1.405000e+07</td>\n",
       "      <td>2066</td>\n",
       "      <td>Growth</td>\n",
       "      <td>1#220</td>\n",
       "      <td>CANBONUS</td>\n",
       "      <td>0.0</td>\n",
       "      <td>Canbonus</td>\n",
       "      <td>NaN</td>\n",
       "      <td>...</td>\n",
       "      <td>NaN</td>\n",
       "      <td>1.702393e+07</td>\n",
       "      <td>S&amp;P BSE Sensex</td>\n",
       "      <td>2015-12-15 19:12:12</td>\n",
       "      <td>True</td>\n",
       "      <td>NaN</td>\n",
       "      <td>NaN</td>\n",
       "      <td>NaN</td>\n",
       "      <td>NaN</td>\n",
       "      <td>NaN</td>\n",
       "    </tr>\n",
       "    <tr>\n",
       "      <th>3</th>\n",
       "      <td>5</td>\n",
       "      <td>1.405000e+07</td>\n",
       "      <td>1.405000e+07</td>\n",
       "      <td>2066</td>\n",
       "      <td>Growth</td>\n",
       "      <td>1#359</td>\n",
       "      <td>CANTRIPLE+</td>\n",
       "      <td>0.0</td>\n",
       "      <td>Cantriple(G)</td>\n",
       "      <td>NaN</td>\n",
       "      <td>...</td>\n",
       "      <td>NaN</td>\n",
       "      <td>1.702393e+07</td>\n",
       "      <td>S&amp;P BSE Sensex</td>\n",
       "      <td>2015-12-15 19:12:12</td>\n",
       "      <td>True</td>\n",
       "      <td>NaN</td>\n",
       "      <td>NaN</td>\n",
       "      <td>NaN</td>\n",
       "      <td>NaN</td>\n",
       "      <td>NaN</td>\n",
       "    </tr>\n",
       "    <tr>\n",
       "      <th>4</th>\n",
       "      <td>6</td>\n",
       "      <td>1.405000e+07</td>\n",
       "      <td>1.405000e+07</td>\n",
       "      <td>2066</td>\n",
       "      <td>Growth</td>\n",
       "      <td>2#226</td>\n",
       "      <td>CANPEP 95</td>\n",
       "      <td>0.0</td>\n",
       "      <td>Canpep '95(G)</td>\n",
       "      <td>NaN</td>\n",
       "      <td>...</td>\n",
       "      <td>NaN</td>\n",
       "      <td>1.702393e+07</td>\n",
       "      <td>S&amp;P BSE Sensex</td>\n",
       "      <td>2015-12-15 19:12:12</td>\n",
       "      <td>True</td>\n",
       "      <td>NaN</td>\n",
       "      <td>NaN</td>\n",
       "      <td>NaN</td>\n",
       "      <td>NaN</td>\n",
       "      <td>NaN</td>\n",
       "    </tr>\n",
       "    <tr>\n",
       "      <th>...</th>\n",
       "      <td>...</td>\n",
       "      <td>...</td>\n",
       "      <td>...</td>\n",
       "      <td>...</td>\n",
       "      <td>...</td>\n",
       "      <td>...</td>\n",
       "      <td>...</td>\n",
       "      <td>...</td>\n",
       "      <td>...</td>\n",
       "      <td>...</td>\n",
       "      <td>...</td>\n",
       "      <td>...</td>\n",
       "      <td>...</td>\n",
       "      <td>...</td>\n",
       "      <td>...</td>\n",
       "      <td>...</td>\n",
       "      <td>...</td>\n",
       "      <td>...</td>\n",
       "      <td>...</td>\n",
       "      <td>...</td>\n",
       "      <td>...</td>\n",
       "    </tr>\n",
       "    <tr>\n",
       "      <th>8714</th>\n",
       "      <td>16534</td>\n",
       "      <td>1.405188e+08</td>\n",
       "      <td>1.405188e+08</td>\n",
       "      <td>2066</td>\n",
       "      <td>Growth</td>\n",
       "      <td>152582.0</td>\n",
       "      <td>TRUSTMF Flexi Cap Fund-Regular Plan- Growth</td>\n",
       "      <td>0.0</td>\n",
       "      <td>TRUSTMF Flexi Cap Fund</td>\n",
       "      <td>NaN</td>\n",
       "      <td>...</td>\n",
       "      <td>NaN</td>\n",
       "      <td>1.702393e+07</td>\n",
       "      <td>NIfty 500 Total Return</td>\n",
       "      <td>2024-04-01 17:11:17</td>\n",
       "      <td>False</td>\n",
       "      <td>NaN</td>\n",
       "      <td>NaN</td>\n",
       "      <td>NaN</td>\n",
       "      <td>NaN</td>\n",
       "      <td>NaN</td>\n",
       "    </tr>\n",
       "    <tr>\n",
       "      <th>8715</th>\n",
       "      <td>16536</td>\n",
       "      <td>1.405188e+08</td>\n",
       "      <td>1.405188e+08</td>\n",
       "      <td>2066</td>\n",
       "      <td>Growth</td>\n",
       "      <td>152590.0</td>\n",
       "      <td>Tata Nifty500 Multicap India Manufacturing 50 ...</td>\n",
       "      <td>0.0</td>\n",
       "      <td>Tata Nifty500 Multicap India Manufacturing 50 ...</td>\n",
       "      <td>NaN</td>\n",
       "      <td>...</td>\n",
       "      <td>NaN</td>\n",
       "      <td>NaN</td>\n",
       "      <td>NaN</td>\n",
       "      <td>2024-04-02 10:05:57</td>\n",
       "      <td>False</td>\n",
       "      <td>NaN</td>\n",
       "      <td>NaN</td>\n",
       "      <td>NaN</td>\n",
       "      <td>NaN</td>\n",
       "      <td>NaN</td>\n",
       "    </tr>\n",
       "    <tr>\n",
       "      <th>8716</th>\n",
       "      <td>16537</td>\n",
       "      <td>1.405188e+08</td>\n",
       "      <td>1.405188e+08</td>\n",
       "      <td>2066</td>\n",
       "      <td>Growth</td>\n",
       "      <td>152588.0</td>\n",
       "      <td>Tata Nifty500 Multicap India Manufacturing 50 ...</td>\n",
       "      <td>0.0</td>\n",
       "      <td>Tata Nifty500 Multicap India Manufacturing 50 ...</td>\n",
       "      <td>NaN</td>\n",
       "      <td>...</td>\n",
       "      <td>NaN</td>\n",
       "      <td>NaN</td>\n",
       "      <td>NaN</td>\n",
       "      <td>2024-04-02 10:06:43</td>\n",
       "      <td>False</td>\n",
       "      <td>NaN</td>\n",
       "      <td>NaN</td>\n",
       "      <td>NaN</td>\n",
       "      <td>NaN</td>\n",
       "      <td>NaN</td>\n",
       "    </tr>\n",
       "    <tr>\n",
       "      <th>8717</th>\n",
       "      <td>16538</td>\n",
       "      <td>1.405188e+08</td>\n",
       "      <td>1.405188e+08</td>\n",
       "      <td>2066</td>\n",
       "      <td>Growth</td>\n",
       "      <td>152587.0</td>\n",
       "      <td>Samco Special Opportunities Fund - Regular Pla...</td>\n",
       "      <td>0.0</td>\n",
       "      <td>Samco Special Opportunities Fund</td>\n",
       "      <td>NaN</td>\n",
       "      <td>...</td>\n",
       "      <td>NaN</td>\n",
       "      <td>1.702393e+07</td>\n",
       "      <td>NIfty 500 Total Return</td>\n",
       "      <td>2024-04-02 10:27:44</td>\n",
       "      <td>False</td>\n",
       "      <td>NaN</td>\n",
       "      <td>NaN</td>\n",
       "      <td>NaN</td>\n",
       "      <td>NaN</td>\n",
       "      <td>NaN</td>\n",
       "    </tr>\n",
       "    <tr>\n",
       "      <th>8718</th>\n",
       "      <td>16539</td>\n",
       "      <td>1.405188e+08</td>\n",
       "      <td>1.405188e+08</td>\n",
       "      <td>2066</td>\n",
       "      <td>Growth</td>\n",
       "      <td>152586.0</td>\n",
       "      <td>Samco Special Opportunities Fund - Direct Plan...</td>\n",
       "      <td>0.0</td>\n",
       "      <td>Samco Special Opportunities Fund - Direct Plan</td>\n",
       "      <td>NaN</td>\n",
       "      <td>...</td>\n",
       "      <td>NaN</td>\n",
       "      <td>1.702393e+07</td>\n",
       "      <td>NIfty 500 Total Return</td>\n",
       "      <td>2024-04-02 10:27:58</td>\n",
       "      <td>False</td>\n",
       "      <td>NaN</td>\n",
       "      <td>NaN</td>\n",
       "      <td>NaN</td>\n",
       "      <td>NaN</td>\n",
       "      <td>NaN</td>\n",
       "    </tr>\n",
       "  </tbody>\n",
       "</table>\n",
       "<p>8719 rows × 23 columns</p>\n",
       "</div>"
      ],
      "text/plain": [
       "      Unnamed: 0    SchemeCode  SecurityCode  SchemePlanCode  \\\n",
       "0              1  1.405000e+07  1.405000e+07            2066   \n",
       "1              2  1.405000e+07  1.405000e+07            2066   \n",
       "2              4  1.405000e+07  1.405000e+07            2066   \n",
       "3              5  1.405000e+07  1.405000e+07            2066   \n",
       "4              6  1.405000e+07  1.405000e+07            2066   \n",
       "...          ...           ...           ...             ...   \n",
       "8714       16534  1.405188e+08  1.405188e+08            2066   \n",
       "8715       16536  1.405188e+08  1.405188e+08            2066   \n",
       "8716       16537  1.405188e+08  1.405188e+08            2066   \n",
       "8717       16538  1.405188e+08  1.405188e+08            2066   \n",
       "8718       16539  1.405188e+08  1.405188e+08            2066   \n",
       "\n",
       "     SchemePlanDescription MappingCode  \\\n",
       "0                   Growth      100656   \n",
       "1                   Growth      100651   \n",
       "2                   Growth       1#220   \n",
       "3                   Growth       1#359   \n",
       "4                   Growth       2#226   \n",
       "...                    ...         ...   \n",
       "8714                Growth    152582.0   \n",
       "8715                Growth    152590.0   \n",
       "8716                Growth    152588.0   \n",
       "8717                Growth    152587.0   \n",
       "8718                Growth    152586.0   \n",
       "\n",
       "                                            MappingName  IssuePrice  \\\n",
       "0           UTI - Master Plus Unit Scheme-Growth Option         0.0   \n",
       "1                      UTI - Master Share-Growth Option         0.0   \n",
       "2                                              CANBONUS         0.0   \n",
       "3                                            CANTRIPLE+         0.0   \n",
       "4                                             CANPEP 95         0.0   \n",
       "...                                                 ...         ...   \n",
       "8714        TRUSTMF Flexi Cap Fund-Regular Plan- Growth         0.0   \n",
       "8715  Tata Nifty500 Multicap India Manufacturing 50 ...         0.0   \n",
       "8716  Tata Nifty500 Multicap India Manufacturing 50 ...         0.0   \n",
       "8717  Samco Special Opportunities Fund - Regular Pla...         0.0   \n",
       "8718  Samco Special Opportunities Fund - Direct Plan...         0.0   \n",
       "\n",
       "                                            Description IssueDate  ...  \\\n",
       "0                        UTI Master Plus 91 Unit Scheme       NaN  ...   \n",
       "1                                       UTI Mastershare       NaN  ...   \n",
       "2                                              Canbonus       NaN  ...   \n",
       "3                                          Cantriple(G)       NaN  ...   \n",
       "4                                         Canpep '95(G)       NaN  ...   \n",
       "...                                                 ...       ...  ...   \n",
       "8714                             TRUSTMF Flexi Cap Fund       NaN  ...   \n",
       "8715  Tata Nifty500 Multicap India Manufacturing 50 ...       NaN  ...   \n",
       "8716  Tata Nifty500 Multicap India Manufacturing 50 ...       NaN  ...   \n",
       "8717                   Samco Special Opportunities Fund       NaN  ...   \n",
       "8718     Samco Special Opportunities Fund - Direct Plan       NaN  ...   \n",
       "\n",
       "     ISINCode  BenchMarkIndex        BenchMarkIndexName         ModifiedDate  \\\n",
       "0         NaN    1.702393e+07            S&P BSE Sensex  2015-12-15 19:12:12   \n",
       "1         NaN    1.702393e+07  S&P BSE 100 Total Return  2020-01-08 19:49:52   \n",
       "2         NaN    1.702393e+07            S&P BSE Sensex  2015-12-15 19:12:12   \n",
       "3         NaN    1.702393e+07            S&P BSE Sensex  2015-12-15 19:12:12   \n",
       "4         NaN    1.702393e+07            S&P BSE Sensex  2015-12-15 19:12:12   \n",
       "...       ...             ...                       ...                  ...   \n",
       "8714      NaN    1.702393e+07    NIfty 500 Total Return  2024-04-01 17:11:17   \n",
       "8715      NaN             NaN                       NaN  2024-04-02 10:05:57   \n",
       "8716      NaN             NaN                       NaN  2024-04-02 10:06:43   \n",
       "8717      NaN    1.702393e+07    NIfty 500 Total Return  2024-04-02 10:27:44   \n",
       "8718      NaN    1.702393e+07    NIfty 500 Total Return  2024-04-02 10:27:58   \n",
       "\n",
       "      DeleteFlag      scheme_name  scheme_category        date  \\\n",
       "0           True              NaN              NaN         NaN   \n",
       "1          False  UTI Mastershare  Equity-LargeCap  2019-09-04   \n",
       "2           True              NaN              NaN         NaN   \n",
       "3           True              NaN              NaN         NaN   \n",
       "4           True              NaN              NaN         NaN   \n",
       "...          ...              ...              ...         ...   \n",
       "8714       False              NaN              NaN         NaN   \n",
       "8715       False              NaN              NaN         NaN   \n",
       "8716       False              NaN              NaN         NaN   \n",
       "8717       False              NaN              NaN         NaN   \n",
       "8718       False              NaN              NaN         NaN   \n",
       "\n",
       "     btt_scheme_code btt_scheme_category  \n",
       "0                NaN                 NaN  \n",
       "1       UTIMASHARE-G           Large Cap  \n",
       "2                NaN                 NaN  \n",
       "3                NaN                 NaN  \n",
       "4                NaN                 NaN  \n",
       "...              ...                 ...  \n",
       "8714             NaN                 NaN  \n",
       "8715             NaN                 NaN  \n",
       "8716             NaN                 NaN  \n",
       "8717             NaN                 NaN  \n",
       "8718             NaN                 NaN  \n",
       "\n",
       "[8719 rows x 23 columns]"
      ]
     },
     "execution_count": 15,
     "metadata": {},
     "output_type": "execute_result"
    }
   ],
   "source": [
    "import pandas as pd\n",
    "\n",
    "# read the 2066plan code file\n",
    "df = pd.read_csv('2066-SchemePlanCode.csv')\n",
    "df"
   ]
  },
  {
   "cell_type": "code",
   "execution_count": 8,
   "metadata": {},
   "outputs": [
    {
     "data": {
      "text/plain": [
       "Index(['Unnamed: 0', 'SchemeCode', 'SecurityCode', 'SchemePlanCode',\n",
       "       'SchemePlanDescription', 'MappingCode', 'MappingName', 'IssuePrice',\n",
       "       'Description', 'IssueDate', 'ExpiryDate', 'FaceValue', 'MarketLot',\n",
       "       'ISINCode', 'BenchMarkIndex', 'BenchMarkIndexName', 'ModifiedDate',\n",
       "       'DeleteFlag', 'scheme_name', 'scheme_category', 'date',\n",
       "       'btt_scheme_code', 'btt_scheme_category'],\n",
       "      dtype='object')"
      ]
     },
     "execution_count": 8,
     "metadata": {},
     "output_type": "execute_result"
    }
   ],
   "source": [
    "df.columns"
   ]
  },
  {
   "cell_type": "code",
   "execution_count": 11,
   "metadata": {},
   "outputs": [
    {
     "data": {
      "text/plain": [
       "array(['Growth', '41-TRIAL-Growth 167'], dtype=object)"
      ]
     },
     "execution_count": 11,
     "metadata": {},
     "output_type": "execute_result"
    }
   ],
   "source": [
    "df['SchemePlanDescription'].unique()"
   ]
  },
  {
   "cell_type": "code",
   "execution_count": 58,
   "metadata": {},
   "outputs": [
    {
     "data": {
      "text/plain": [
       "array([17023928.00026005, 14010005.00026005, 17023929.00026005,\n",
       "       14010046.00026005, 17024232.00026005,               nan,\n",
       "       17024233.00026005, 14094912.00026005, 17024234.00026005,\n",
       "       17024235.00026005, 14094912.00026004, 17023929.00026006])"
      ]
     },
     "execution_count": 58,
     "metadata": {},
     "output_type": "execute_result"
    }
   ],
   "source": [
    "df['BenchMarkIndex'].unique()"
   ]
  },
  {
   "cell_type": "code",
   "execution_count": 27,
   "metadata": {},
   "outputs": [
    {
     "data": {
      "text/plain": [
       "True     404\n",
       "False     65\n",
       "dtype: int64"
      ]
     },
     "execution_count": 27,
     "metadata": {},
     "output_type": "execute_result"
    }
   ],
   "source": [
    "# check if the description is same as the scheme name\n",
    "check = df[df['scheme_name'].notnull()]['Description'] == df[df['scheme_name'].notnull()]['scheme_name']\n",
    "# count of false in check\n",
    "check.value_counts()"
   ]
  },
  {
   "cell_type": "code",
   "execution_count": 52,
   "metadata": {},
   "outputs": [],
   "source": [
    "categories = df['scheme_category'].unique()"
   ]
  },
  {
   "cell_type": "code",
   "execution_count": 49,
   "metadata": {},
   "outputs": [
    {
     "data": {
      "text/plain": [
       "array([17023928.00026005, 17023929.00026005, 14010005.00026005])"
      ]
     },
     "execution_count": 49,
     "metadata": {},
     "output_type": "execute_result"
    }
   ],
   "source": [
    "equity_largecap = df[df['scheme_category']=='Equity-LargeCap']\n",
    "equity_largecap['BenchMarkIndex'].unique()"
   ]
  },
  {
   "cell_type": "code",
   "execution_count": 51,
   "metadata": {},
   "outputs": [
    {
     "data": {
      "text/plain": [
       "False    8070\n",
       "True       79\n",
       "Name: scheme_category, dtype: int64"
      ]
     },
     "execution_count": 51,
     "metadata": {},
     "output_type": "execute_result"
    }
   ],
   "source": [
    "check = df.loc[df['BenchMarkIndex'].isin([17023928.00026005, 17023929.00026005, 14010005.00026005]), 'scheme_category'] =='Equity-LargeCap'\n",
    "check.value_counts()"
   ]
  },
  {
   "cell_type": "code",
   "execution_count": 57,
   "metadata": {},
   "outputs": [
    {
     "name": "stdout",
     "output_type": "stream",
     "text": [
      "There are multiple BenchMarkIndex for  nan\n",
      "[17023928.00026005 17023929.00026005 14010005.00026005]  are the unique BenchMarkIndex for  Equity-LargeCap\n",
      "[14010005.00026005 17023929.00026005 17023928.00026005]  are the unique BenchMarkIndex for  Hybrid-EquityOriented\n",
      "[17023929.00026005 17023928.00026005]  are the unique BenchMarkIndex for  Equity-TaxPlanning\n",
      "[17023929.00026005 14010005.00026005]  are the unique BenchMarkIndex for  Debt-UltraShortTerm\n",
      "[14010005.00026005 17023929.00026005]  are the unique BenchMarkIndex for  Hybrid-Debt-orientedConservative\n",
      "[17023928.00026005]  are the unique BenchMarkIndex for  Equity-Technology\n",
      "[17023929.00026005 17023928.00026005]  are the unique BenchMarkIndex for  Equity-Others\n",
      "[14010005.00026005 14010046.00026005 17023929.00026005]  are the unique BenchMarkIndex for  Debt-GiltMedium&LongTerm\n",
      "[14010005.00026005 17023929.00026005 17023928.00026005]  are the unique BenchMarkIndex for  Hybrid-Debt-orientedAggressive\n",
      "[17023929.00026005 14010005.00026005]  are the unique BenchMarkIndex for  Debt-Income\n",
      "[14010005.00026005 17023929.00026005]  are the unique BenchMarkIndex for  Hybrid-AssetAllocation\n",
      "[17023929.00026005 17023928.00026005]  are the unique BenchMarkIndex for  Equity-MultiCap\n",
      "[17023929.00026005 17023928.00026005]  are the unique BenchMarkIndex for  Equity-MidCap\n",
      "[14010005.00026005 17023929.00026005]  are the unique BenchMarkIndex for  Debt-ShortTerm\n",
      "[14010005.00026005 17023929.00026005]  are the unique BenchMarkIndex for  Debt-Liquid\n",
      "[17023929.00026005]  are the unique BenchMarkIndex for  Equity-FMCG\n",
      "[14010005.00026005 17023929.00026005]  are the unique BenchMarkIndex for  Debt-DynamicBond\n",
      "[14010005.00026005 17023929.00026005]  are the unique BenchMarkIndex for  Debt-CreditOpportunities\n",
      "[17023929.00026005 17023928.00026005]  are the unique BenchMarkIndex for  Equity-Banking\n",
      "[17023928.00026005 17023929.00026005]  are the unique BenchMarkIndex for  Equity-Infrastructure\n",
      "[17023929.00026005 14010005.00026005]  are the unique BenchMarkIndex for  Hybrid-Arbitrage\n",
      "[nan]  are the unique BenchMarkIndex for  GoldFund\n",
      "[17023928.00026005 17023929.00026005]  are the unique BenchMarkIndex for  Equity-SmallCap\n",
      "[17024233.00026005 14094912.00026005               nan 17024234.00026005\n",
      " 17024235.00026005 17023928.00026005]  are the unique BenchMarkIndex for  Equity-InternationalFunds\n",
      "[14010005.00026005 17023929.00026005 17023928.00026005]  are the unique BenchMarkIndex for  Hybrid-Others\n",
      "[17023928.00026005]  are the unique BenchMarkIndex for  Equity-Pharma\n",
      "[17023929.00026005]  are the unique BenchMarkIndex for  Equity-Large&MidCap\n"
     ]
    }
   ],
   "source": [
    "for category in categories:\n",
    "    # print(category)\n",
    "    cat_filter = df[df['scheme_category'] == category]\n",
    "    cap_unique = cat_filter['BenchMarkIndex'].unique()\n",
    "\n",
    "    check = df.loc[df['BenchMarkIndex'].isin(cap_unique), 'scheme_category'] == category\n",
    "    # print(check.value_counts())\n",
    "\n",
    "    if check.value_counts().get(True) == len(cat_filter):\n",
    "        # print(check.value_counts().get(True))\n",
    "        print(cap_unique, \" are the unique BenchMarkIndex for \", category)\n",
    "    else:\n",
    "        print(\"There are multiple BenchMarkIndex for \", category) \n",
    "        # print(check.value_counts().get(False))\n"
   ]
  },
  {
   "cell_type": "code",
   "execution_count": 22,
   "metadata": {},
   "outputs": [
    {
     "name": "stderr",
     "output_type": "stream",
     "text": [
      "C:\\Users\\Admin\\AppData\\Local\\Temp\\ipykernel_5228\\724550513.py:16: UserWarning: pandas only supports SQLAlchemy connectable (engine/connection) or database string URI or sqlite3 DBAPI2 connection. Other DBAPI2 objects are not tested. Please consider using SQLAlchemy.\n",
      "  sec_div  = pd.read_sql_query(sql, conn)\n"
     ]
    },
    {
     "data": {
      "text/plain": [
       "1061"
      ]
     },
     "execution_count": 22,
     "metadata": {},
     "output_type": "execute_result"
    }
   ],
   "source": [
    "import psycopg2\n",
    "import pandas as pd\n",
    "conn = psycopg2.connect(\n",
    "    host=\"192.168.29.162\",\n",
    "    port=5432,\n",
    "    database=\"BravisaDB\",\n",
    "    user=\"postgres\",\n",
    "    password=\"edsols\")\n",
    "\n",
    "cur = conn.cursor()\n",
    "\n",
    "sql = \"\"\" select * from public.\"IndustryDivisor\"\n",
    "            where \"IndexName\" = 'INDUSTRY-Consumer Staples Distribution & Retail'\n",
    "            order by \"Date\" \"\"\"\n",
    "\n",
    "sec_div  = pd.read_sql_query(sql, conn)\n",
    "\n",
    "# rename sec_div['IndexValue'] to ff_close_sum\n",
    "sec_div.rename(columns={'IndexValue':'ff_close_sum(Cr)', \"Divisor\":\"Divisor(Cr)\"}, inplace=True)\n",
    "# sec_div.rename()\n",
    "len(sec_div)"
   ]
  },
  {
   "cell_type": "code",
   "execution_count": 23,
   "metadata": {},
   "outputs": [],
   "source": [
    "sec_div['ff_close_sum(Cr)'] = sec_div['ff_close_sum(Cr)'].apply(lambda x: str(round(float(x/10000000), 2)) if x > 10000000 else x)\n",
    "sec_div['Divisor(Cr)'] = sec_div['Divisor(Cr)'].apply(lambda x: str(round(float(x/1000000), 2)) if x > 1000000 else x)"
   ]
  },
  {
   "cell_type": "code",
   "execution_count": 24,
   "metadata": {},
   "outputs": [],
   "source": [
    "sec_div.to_csv('INDUSTRY-Consumer Staples Distribution & Retail.csv', index=False)"
   ]
  },
  {
   "cell_type": "code",
   "execution_count": 50,
   "metadata": {},
   "outputs": [
    {
     "name": "stderr",
     "output_type": "stream",
     "text": [
      "C:\\Users\\Admin\\AppData\\Local\\Temp\\ipykernel_5228\\1776443147.py:16: UserWarning: pandas only supports SQLAlchemy connectable (engine/connection) or database string URI or sqlite3 DBAPI2 connection. Other DBAPI2 objects are not tested. Please consider using SQLAlchemy.\n",
      "  indexList  = pd.read_sql_query(sql, conn)\n"
     ]
    }
   ],
   "source": [
    "import psycopg2\n",
    "import pandas as pd\n",
    "conn = psycopg2.connect(\n",
    "    host=\"192.168.29.162\",\n",
    "    port=5432,\n",
    "    database=\"BravisaDB\",\n",
    "    user=\"postgres\",\n",
    "    password=\"edsols\")\n",
    "\n",
    "cur = conn.cursor()\n",
    "\n",
    "sql = \"\"\" select * from public.\"SubIndustryIndexList\"\n",
    "            where \"SubIndustryIndexName\" = 'SUBINDUSTRY-Trading'\n",
    "            order by \"GenDate\" \"\"\"\n",
    "\n",
    "indexList  = pd.read_sql_query(sql, conn)\n",
    "\n",
    "indexList.to_csv('IRS/IndexList - SUBINDUSTRY-Trading.csv', index=False)\n",
    "\n"
   ]
  },
  {
   "cell_type": "code",
   "execution_count": 52,
   "metadata": {},
   "outputs": [
    {
     "name": "stderr",
     "output_type": "stream",
     "text": [
      "C:\\Users\\Admin\\AppData\\Local\\Temp\\ipykernel_5228\\2763819712.py:16: UserWarning: pandas only supports SQLAlchemy connectable (engine/connection) or database string URI or sqlite3 DBAPI2 connection. Other DBAPI2 objects are not tested. Please consider using SQLAlchemy.\n",
      "  IndustryList  = pd.read_sql_query(sql, conn)\n"
     ]
    }
   ],
   "source": [
    "import psycopg2\n",
    "import pandas as pd\n",
    "conn = psycopg2.connect(\n",
    "    host=\"192.168.29.162\",\n",
    "    port=5432,\n",
    "    database=\"BravisaDB\",\n",
    "    user=\"postgres\",\n",
    "    password=\"edsols\")\n",
    "\n",
    "cur = conn.cursor()\n",
    "\n",
    "sql = \"\"\" select * from public.\"IndustryList\"\n",
    "            where \"SubIndustryIndexName\" = 'SUBINDUSTRY-Trading'\n",
    "            order by \"GenDate\" \"\"\"\n",
    "\n",
    "IndustryList  = pd.read_sql_query(sql, conn)\n",
    "\n",
    "col = ['FF_Open', 'FF_High', 'FF_Low', 'FF_Close', 'PAT', 'Equity', 'OS_Close', 'prev_pat',\n",
    "       'prev_equity',  'OS']\n",
    "\n",
    "# for c in col:\n",
    "#         IndustryList[c] = IndustryList[c].apply(lambda x: (round(float(x/10000000), 2)) if x > 10000000 else x)\n",
    "\n",
    "IndustryList.to_csv('IRS/IndustryList - SUBINDUSTRY-Trading.csv', index=False)"
   ]
  },
  {
   "cell_type": "markdown",
   "metadata": {},
   "source": [
    "# Resistance and support"
   ]
  },
  {
   "cell_type": "code",
   "execution_count": null,
   "metadata": {},
   "outputs": [],
   "source": [
    "import pandas as pd\n",
    "import psycopg2\n",
    "from datetime import datetime\n",
    "import warnings\n",
    "warnings.filterwarnings(\"ignore\")\n",
    "\n",
    "# connection to the database\n",
    "industry_list = []  # Initialize the 'industry_list' variable\n",
    "\n",
    "conn = psycopg2.connect(\n",
    "    host=\"192.168.1.162\",\n",
    "    port=5432,\n",
    "    database=\"BravisaDB\",\n",
    "    user=\"postgres\",\n",
    "    password=\"edsols\")\n",
    "\n",
    "cur = conn.cursor()"
   ]
  },
  {
   "cell_type": "code",
   "execution_count": 5,
   "metadata": {},
   "outputs": [
    {
     "name": "stderr",
     "output_type": "stream",
     "text": [
      "C:\\Users\\Admin\\AppData\\Local\\Temp\\ipykernel_5872\\1905138399.py:62: FutureWarning: save is not part of the public API, usage can give unexpected results and will be removed in a future version\n",
      "  writer.save()\n"
     ]
    }
   ],
   "source": [
    "# Let's generate a new Excel file with slight inconsistencies as per the user's request.\n",
    "import pandas as pd\n",
    "import numpy as np\n",
    "\n",
    "# Creating the Customers Table\n",
    "customers = pd.DataFrame({\n",
    "    \"CustomerID\": np.arange(1, 11),\n",
    "    \"CustomerName\": [\"John Doe\", \"Jane Smith\", \"Mark Taylor\", \"Emily Johnson\", \"Chris Brown\",\n",
    "                     \"Ava Davis\", \"Liam Wilson\", \"Mia White\", \"Noah Harris\", \"Sophia Clark\"],\n",
    "    \"Email\": [\"john.doe@example.com\", \"jane.smith@example.com\", \"mark.taylor@example.com\", \"emily.johnson@example.com\", \n",
    "              \"chris.brown@example.com\", \"ava.davis@example.com\", np.nan, \"mia.white@example.com\", \n",
    "              \"noah.harris@example.com\", \"sophia.clark@example.com\"],  # One missing email\n",
    "    \"PhoneNumber\": [\"123-456-7890\", \"234-567-8901\", \"345-678-9012\", \"456-789-0123\", \"567-890-1234\",\n",
    "                    \"678-901-2345\", \"789-012-3456\", \"890-123-4567\", \"901-234-5678\", np.nan],  # One missing phone number\n",
    "    \"Region\": [\"North\", \"South\", \"East\", \"West\", \"North\", \"South\", \"East\", \"West\", \"North\", \"south\"]  # One inconsistency in Region capitalization\n",
    "})\n",
    "\n",
    "# Creating the Sales Table\n",
    "sales = pd.DataFrame({\n",
    "    \"TransactionID\": np.arange(1, 21),\n",
    "    \"CustomerID\": np.random.choice(customers[\"CustomerID\"], 20),\n",
    "    \"ProductID\": np.random.randint(1, 6, 20),\n",
    "    \"Quantity\": np.random.randint(1, 11, 20),\n",
    "    \"SalesAmount\": [100.5, 200, 150, \"???\", 300, 400, 350, 250, 500, 600, 450, 550, 650, 700, 750, 800, 850, 900, 950, 1000],  # One incorrect entry\n",
    "    \"TransactionDate\": pd.to_datetime(np.random.choice(pd.date_range(\"2023-01-01\", \"2024-01-01\"), 20))\n",
    "})\n",
    "\n",
    "# Fixing the incorrect date\n",
    "sales[\"TransactionDate\"] = sales[\"TransactionDate\"].astype(str).replace(\"2024-02-30\", \"2024-02-28\")\n",
    "sales[\"TransactionDate\"] = pd.to_datetime(sales[\"TransactionDate\"])\n",
    "\n",
    "# Creating the Products Table\n",
    "products = pd.DataFrame({\n",
    "    \"ProductID\": np.arange(1, 6),\n",
    "    \"ProductName\": [\"Laptop\", \"Smartphone\", \"Tablet\", \"Monitor\", \"Wearable\"],\n",
    "    \"Category\": [\"Electronics\", \"Electronics\", \"Electronics\", \"Electronics\", \"Wearables\"],\n",
    "    \"Price\": [1000, 500, 300, 200, 150]\n",
    "})\n",
    "\n",
    "# Creating the Regions Table\n",
    "regions = pd.DataFrame({\n",
    "    \"Region\": [\"North\", \"South\", \"East\", \"West\"],\n",
    "    \"Manager\": [\"Alice\", \"Bob\", \"Charlie\", \"Diana\"],\n",
    "    \"RegionCode\": [\"NR\", \"SR\", \"ER\", \"WR\"]\n",
    "})\n",
    "\n",
    "# Create a dictionary to store the tables\n",
    "dataframes = {\"Customers\": customers, \"Sales\": sales, \"Products\": products, \"Regions\": regions}\n",
    "\n",
    "# Define the file path\n",
    "file_path = \"customer_profitability_analysis.xlsx\"\n",
    "\n",
    "# Create an Excel writer object\n",
    "writer = pd.ExcelWriter(file_path)\n",
    "\n",
    "# Iterate over the dataframes dictionary\n",
    "for sheet_name, df in dataframes.items():\n",
    "    # Write each dataframe to a separate sheet in the Excel file\n",
    "    df.to_excel(writer, sheet_name=sheet_name, index=False)\n",
    "\n",
    "# Save the Excel file\n",
    "writer.save()\n",
    "\n"
   ]
  },
  {
   "cell_type": "code",
   "execution_count": 16,
   "metadata": {},
   "outputs": [
    {
     "name": "stdout",
     "output_type": "stream",
     "text": [
      "3069\n",
      "2385\n",
      "[14050001.04, 14050006.13, 14050050.0, 14050077.0, 14050098.0, 14050110.0, 14050118.0, 14050148.0, 14050156.0, 14050170.0, 14050288.0, 14050307.0, 14050315.0, 14050316.0, 14050426.0, 14050433.0, 14050438.0, 14050446.0, 14050458.0, 14050461.0, 14050499.0, 14050500.0, 14050618.0, 14050639.0, 14050640.0, 14050671.0, 14050673.0, 14050674.0, 14050703.0, 14050900.0, 14050925.0, 14050956.0, 14051142.0, 14051155.0, 14051198.0, 14051211.0, 14051245.0, 14051349.0, 14051376.0, 14051393.0, 14051422.0, 14051471.0, 14051515.0, 14051516.0, 14051518.0, 14051519.0, 14051521.0, 14051523.0, 14051552.0, 14051562.0, 14051701.0, 14051702.0, 14051703.0, 14051765.0, 14051800.0, 14051825.0, 14051844.0, 14051854.0, 14051858.0, 14051859.0, 14051865.0, 14051884.0, 14051891.0, 14051899.0, 14051931.0, 14051941.0, 14051948.0, 14051950.0, 14051956.0, 14051957.0, 14051959.0, 14051962.0, 14051965.0, 14051973.0, 14051986.0, 14052001.0, 14052005.0, 14052012.0, 14052014.0, 14052050.0, 14052081.0, 14052088.0, 14052091.0, 14052097.0, 14052099.0, 14052101.0, 14052105.0, 14052106.0, 14052115.0, 14052120.0, 14052125.0, 14052130.0, 14052142.0, 14052144.0, 14052145.0, 14052171.0, 14052176.0, 14052179.0, 14052180.0, 14052195.0, 14052207.0, 14052211.0, 14052232.0, 14052244.0, 14052299.0, 14052307.0, 14052326.0, 14052361.0, 14052373.0, 14052408.0, 14052409.0, 14052438.0, 14052452.0, 14052453.0, 14052487.0, 14052496.0, 14052504.0, 14052505.0, 14052516.0, 14052533.0, 14052538.0, 14052558.0, 14052559.0, 14052575.0, 14052589.0, 14052609.0, 14052630.0, 14052634.0, 14052637.0, 14052640.0, 14052667.0, 14052670.0, 14052717.0, 14052728.0, 14052741.0, 14052753.0, 14052756.0, 14052760.0, 14052761.0, 14052884.0, 14052885.0, 14052886.0, 14052887.0, 14052925.0, 14052974.0, 14052975.0, 14052991.0, 14053025.0, 14053054.0, 14053123.0, 14053213.0, 14053217.0, 14053250.0, 14053253.0, 14053264.0, 14053265.0, 14053266.0, 14053267.0, 14053287.0, 14053315.0, 14053334.0, 14053335.0, 14053338.0, 14053362.0, 14053420.0, 14053465.0, 14053477.0, 14053504.0, 14053526.0, 14053547.0, 14053557.0, 14053562.0, 14053573.0, 14053574.0, 14053610.0, 14053653.0, 14053705.0, 14053706.0, 14053716.0, 14053728.0, 14053741.0, 14053755.0, 14053756.0, 14053774.0, 14053785.0, 14053857.0, 14053858.0, 14053870.0, 14053871.0, 14053929.0, 14054049.0, 14054117.0, 14054131.0, 14054153.0, 14054154.0, 14054156.0, 14054165.0, 14054181.0, 14054207.0, 14054225.0, 14054237.0, 14054381.0, 14054389.0, 14054432.0, 14054450.0, 14054451.0, 14054452.0, 14054453.0, 14054540.0, 14054548.0, 14054686.0, 14054704.0, 14054705.0, 14054706.0, 14054707.0, 14054753.0, 14054754.0, 14054891.0, 14054892.0, 14054894.0, 14054895.0, 14054896.0, 14054933.0, 14054936.0, 14054976.0, 14055079.0, 14055141.0, 14055150.0, 14055222.0, 14055231.0, 14055237.0, 14055242.0, 14055244.0, 14055273.0, 14055332.0, 14055333.0, 14055334.0, 14055335.0, 14055340.0, 14055352.0, 14055353.0, 14055357.0, 14055358.0, 14055361.0, 14055365.0, 14055366.0, 14055367.0, 14055376.0, 14055377.0, 14055378.0, 14055379.0, 14055380.0, 14055393.0, 14055397.0, 14055403.0, 14055405.0, 14055413.0, 14055415.0, 14055417.0, 14055418.0, 14055422.0, 14055423.0, 14055424.0, 14055444.0, 14055472.0, 14055500.0, 14055504.0, 14055523.0, 14055543.0, 14055671.0, 14055865.0, 14055924.0, 14055925.0, 14056281.0, 14056301.0, 14056303.0, 14056304.0, 14056305.0, 14056333.0, 14056355.0, 14056538.0, 14056643.0, 14056847.0, 14057032.0, 14057145.0, 14057291.0, 14057296.0, 14057350.0, 14057377.0, 14057511.0, 14057518.0, 14057599.0, 14057600.0, 14057601.0, 14057608.0, 14057609.0, 14057610.0, 14057611.0, 14057612.0, 14057613.0, 14057614.0, 14057615.0, 14057617.0, 14057618.0, 14057619.0, 14057620.0, 14057621.0, 14057632.0, 14057634.0, 14057635.0, 14057636.0, 14057641.0, 14057642.0, 14057648.0, 14057652.0, 14057653.0, 14057654.0, 14057657.0, 14057658.0, 14057660.0, 14057661.0, 14057664.0, 14057665.0, 14057666.0, 14057668.0, 14057670.0, 14057672.0, 14057677.0, 14057678.0, 14057679.0, 14057681.0, 14057683.0, 14057684.0, 14057685.0, 14057686.0, 14057689.0, 14057690.0, 14057691.0, 14057692.0, 14057693.0, 14057696.0, 14057698.0, 14057703.0, 14057704.0, 14057705.0, 14057706.0, 14057707.0, 14057713.0, 14057714.0, 14057715.0, 14057718.0, 14057719.0, 14057722.0, 14057730.0, 14057731.0, 14057732.0, 14057733.0, 14057734.0, 14057735.0, 14057736.0, 14057737.0, 14057738.0, 14057740.0, 14057745.0, 14057747.0, 14057748.0, 14057752.0, 14057753.0, 14057754.0, 14057755.0, 14057756.0, 14057758.0, 14057760.0, 14057761.0, 14057764.0, 14057768.0, 14057781.0, 14057783.0, 14057784.0, 14057785.0, 14057786.0, 14057791.0, 14057794.0, 14057795.0, 14057797.0, 14057802.0, 14057804.0, 14057805.0, 14057808.0, 14057809.0, 14057812.0, 14057813.0, 14057815.0, 14057817.0, 14057818.0, 14057819.0, 14057821.0, 14057822.0, 14057823.0, 14057825.0, 14057829.0, 14057836.0, 14057839.0, 14057840.0, 14057841.0, 14057842.0, 14057844.0, 14057849.0, 14057864.0, 14057866.0, 14057869.0, 14057870.0, 14057872.0, 14057873.0, 14057876.0, 14057878.0, 14057887.0, 14057889.0, 14057890.0, 14057891.0, 14057895.0, 14057897.0, 14057899.0, 14057901.0, 14057904.0, 14057906.0, 14057907.0, 14057910.0, 14057911.0, 14057912.0, 14057914.0, 14057915.0, 14057916.0, 14057917.0, 14057918.0, 14057923.0, 14057926.0, 14057927.0, 14057929.0, 14057932.0, 14057934.0, 14057938.0, 14057943.0, 14057945.0, 14057950.0, 14057959.0, 14057960.0, 14057961.0, 14057963.0, 14057965.0, 14057968.0, 14057970.0, 14057971.0, 14057973.0, 14057975.0, 14057976.0, 14057977.0, 14057983.0, 14057984.0, 14057987.0, 14057988.0, 14057989.0, 14057991.0, 14057994.0, 14057996.0, 14057999.0, 14058005.0, 14058006.0, 14058012.0, 14058013.0, 14058018.0, 14058020.0, 14058021.0, 14058022.0, 14058023.0, 14058024.0, 14058025.0, 14058026.0, 14058027.0, 14058029.0, 14058030.0, 14058032.0, 14058034.0, 14058035.0, 14058037.0, 14058039.0, 14058041.0, 14058045.0, 14058046.0, 14058047.0, 14058048.0, 14058049.0, 14058059.0, 14058061.0, 14058062.0, 14058064.0, 14058065.0, 14058066.0, 14058068.0, 14058069.0, 14058074.0, 14058076.0, 14058077.0, 14058078.0, 14058082.0, 14058083.0, 14058087.0, 14058088.0, 14058089.0, 14058090.0, 14058091.0, 14058093.0, 14058095.0, 14058096.0, 14058097.0, 14058098.0, 14058099.0, 14058101.0, 14058102.0, 14058105.0, 14058108.0, 14058109.0, 14058110.0, 14058111.0, 14058112.0, 14058116.0, 14058118.0, 14058119.0, 14058120.0, 14058121.0, 14058126.0, 14058128.0, 14058129.0, 14058130.0, 14058132.0, 14058135.0, 14058136.0, 14058137.0, 14058138.0, 14058141.0, 14058142.0, 14058143.0, 14058144.0, 14058149.0, 14058150.0, 14058151.0, 14058152.0, 14058158.0, 14058162.0, 14058164.0, 14058165.0, 14058166.0, 14058167.0, 14058169.0, 14058170.0, 14058173.0, 14058174.0, 14058177.0, 14058179.0, 14058180.0, 14058181.0, 14058182.0, 14058183.0, 14058184.0, 14058185.0, 14058186.0, 14058187.0, 14058190.0, 14058191.0, 14058194.0, 14058196.0, 14058202.0, 14058207.0, 14058208.0, 14058209.0, 14058213.0, 14058214.0, 14058215.0, 14058216.0, 14058224.0, 14058225.0, 14058226.0, 14058228.0, 14058229.0, 14058230.0, 14058232.0, 14058243.0, 14058246.0, 14058247.0, 14058249.0, 14058250.0, 14058251.0, 14058252.0, 14058255.0, 14058258.0, 14058259.0, 14058261.0, 14058262.0, 14058264.0, 14058267.0, 14058268.0, 14058270.0, 14058272.0, 14058275.0, 14058277.0, 14058278.0, 14058279.0, 14058286.0, 14058287.0, 14058288.0, 14058293.0, 14058294.0, 14058295.0, 14058299.0, 14058300.0, 14058301.0, 14058303.0, 14058305.0, 14058306.0, 14058309.0, 14058310.0, 14058311.0, 14058312.0, 14058314.0, 14058315.0, 14058316.0, 14058317.0, 14058318.0, 14058320.0, 14058324.0, 14058325.0, 14058328.0, 14058329.0, 14058333.0, 14058335.0, 14058338.0, 14058342.0, 14058344.0, 14058345.0, 14058346.0, 14058347.0, 14058348.0, 14058349.0, 14058350.0, 14058353.0, 14058354.0, 14058358.0, 14058370.0, 14058372.0, 14058373.0, 14058374.0, 14058375.0, 14058378.0, 14058380.0, 14058381.0, 14058382.0, 14058385.0, 14058386.0, 14058392.0, 14058393.0, 14058394.0, 14058398.0, 14058404.0, 14058407.0, 14058409.0, 14058410.0, 14058411.0, 14058412.0, 14058413.0, 14058415.0, 14058421.0, 14058422.0, 14058424.0, 14058425.0, 14058427.0, 14058428.0, 14058429.0, 14058431.0, 14058432.0, 14058435.0, 14058439.0, 14058443.0, 14058446.0, 14058447.0, 14058448.0, 14058449.0, 14058450.0, 14058451.0, 14058453.0, 14058461.0, 14058462.0, 14058463.0, 14058464.0, 14058465.0, 14058467.0, 14058468.0, 14058470.0, 14058471.0, 14058473.0, 14058480.0, 14058481.0, 14058518.0, 14058519.0, 14058521.0, 14058522.0, 14058540.0, 14058541.0, 14058572.0, 14058573.0, 14058576.0, 14058577.0, 14058920.0, 14058921.0, 14058974.0, 14059016.0, 14059039.0, 14059095.0, 14059217.0, 14059456.0, 14059512.0, 14059915.0, 14059916.0, 140510010.0, 140510094.0, 140510097.0, 140510098.0, 140510102.0, 140510115.0, 140510175.0, 140510197.0, 140510198.0, 140510305.0, 140510363.0, 140510364.0, 140510367.0, 140510368.0, 140510441.0, 140510442.0, 140510480.0, 140510482.0, 140510489.0, 140510490.0, 140510510.0, 140510519.0, 140510520.0, 140510525.0, 140510526.0, 140510568.0, 140510569.0, 140510576.0, 140510577.0, 140510670.0, 140510671.0, 140510678.0, 140510679.0, 140510707.0, 140510713.0, 140510946.0, 140510947.0, 140510976.0, 140510977.0, 140510996.0, 140511009.0, 140511010.0, 140511162.0, 140511441.0, 140511443.0, 140511445.0, 140511461.0, 140511462.0, 140511524.0, 140511526.0, 140511587.0, 140511588.0, 140511590.0, 140511591.0, 140511592.0, 140511624.0, 140511654.0, 140511683.0, 140511684.0, 140511695.0, 140511696.0, 140511709.0, 140511710.0, 140511739.0, 140511740.0, 140511777.0, 140511778.0, 140511817.0, 140511818.0, 140511880.0, 140511882.0, 140511917.0, 140511918.0, 140511947.0, 140511948.0, 140511952.0, 140511979.0, 140512033.0, 140512034.0, 140512049.0, 140512050.0, 140512052.0, 140512054.0, 140512088.0, 140512095.0, 140512096.0, 140512103.0, 140512104.0, 140512109.0, 140512110.0, 140512114.0, 140512115.0, 140512116.0, 140512117.0, 140512118.0, 140512157.0, 140512158.0, 140512201.0, 140512202.0, 140512203.0, 140512204.0, 140512230.0, 140512231.0, 140512237.0, 140512241.0, 140512261.0, 140512278.0, 140512279.0, 140512295.0, 140512302.0, 140512303.0, 140512343.0, 140512360.0, 140512361.0, 140512382.0, 140512383.0, 140512385.0, 140512390.0, 140512391.0, 140512394.0, 140512395.0, 140512398.0, 140512399.0, 140512406.0, 140512407.0, 140512409.0, 140512427.0, 140512428.0, 140512437.0, 140512438.0, 140512444.0, 140512445.0, 140512446.0, 140512447.0, 140512457.0, 140512458.0, 140512459.0, 140512460.0, 140512472.0, 140512485.0, 140512486.0, 140512491.0, 140512492.0, 140512501.0, 140512502.0, 140512513.0, 140512514.0, 140512532.0, 140512533.0, 140512538.0, 140512539.0, 140512540.0, 140512541.0, 140512544.0, 140512545.0, 140512550.0, 140512551.0, 140512555.0, 140512573.0, 140512587.0, 140512603.0, 140512604.0, 140512610.0, 140512611.0, 140512612.0, 140512613.0, 140512614.0, 140512625.0, 140512626.0, 140512656.0, 140512661.0, 140512662.0, 140512684.0, 140512687.0, 140512688.0, 140512690.0, 140512705.0, 140512706.0, 140512707.0, 140512708.0, 140512743.0, 140512744.0, 140512755.0, 140512756.0, 140512774.0, 140512786.0, 140512799.0, 140512800.0, 140512813.0, 140512814.0, 140512841.0, 140512842.0, 140512843.0, 140512844.0, 140512869.0, 140512870.0, 140512873.0, 140512874.0, 140512885.0, 140512886.0, 140512899.0, 140512900.0, 140512935.0, 140512936.0, 140512937.0, 140512956.0, 140512972.0, 140512977.0, 140512978.0, 140513025.0, 140513026.0, 140513060.0, 140513080.0, 140513082.0, 140513125.0, 140513126.0, 140513131.0, 140513178.0, 140513179.0, 140513213.0, 140513216.0, 140513217.0, 140513240.0, 140513241.0, 140513256.0, 140513275.0, 140513276.0, 140513279.0, 140513280.0, 140513305.0, 140513306.0, 140513312.0, 140513315.0, 140513316.0, 140513333.0, 140513334.0, 140513338.0, 140513339.0, 140513344.0, 140513356.0, 140513365.0, 140513366.0, 140513367.0, 140513376.0, 140513377.0, 140513380.0, 140513381.0, 140513385.0, 140513397.0, 140513399.0, 140513401.0, 140513403.0, 140513405.0, 140513411.0, 140513445.0, 140513446.0, 140513465.0, 140513466.0, 140513489.0, 140513490.0, 140513507.0, 140513508.0, 140513517.0, 140513518.0, 140513529.0, 140513530.0, 140513557.0, 140513558.0, 140513693.0, 140513765.0, 140513790.0, 140513791.0, 140513843.0, 140513844.0, 140513858.0, 140513859.0, 140513902.0, 140513985.0, 140513986.0, 140513987.0, 140514006.0, 140514007.0, 140514020.0, 140514047.0, 140514098.0, 140514099.0, 140514100.0, 140514119.0, 140514124.0, 140514125.0, 140514126.0, 140514136.0, 140514137.0, 140514175.0, 140514177.0, 140514178.0, 140514179.0, 140514180.0, 140514181.0, 140514195.0, 140514196.0, 140514197.0, 140514198.0, 140514200.0, 140514202.0, 140514207.0, 140514208.0, 140514212.0, 140514219.0, 140514220.0, 140514233.0, 140514234.0, 140514235.0, 140514236.0, 140514255.0, 140514256.0, 140514295.0, 140514296.0, 140514321.0, 140514322.0, 140514325.0, 140514326.0, 140514394.0, 140514425.0, 140514426.0, 140514446.0, 140514447.0, 140514448.0, 140514449.0, 140514472.0, 140514473.0, 140514474.0, 140514475.0, 140514476.0, 140514506.0, 140514529.0, 140514530.0, 140514537.0, 140514538.0, 140514564.0, 140514565.0, 140514566.0, 140514567.0, 140514581.0, 140514586.0, 140514587.0, 140514590.0, 140514591.0, 140514599.0, 140514622.0, 140514623.0, 140514624.0, 140514625.0, 140514633.0, 140514634.0, 140514635.0, 140514636.0, 140514637.0, 140514640.0, 140514641.0, 140514651.0, 140514652.0, 140514654.0, 140514667.0, 140514668.0, 140514696.0, 140514697.0, 140514704.0, 140514705.0, 140514721.0, 140514727.0, 140514728.0, 140514732.0, 140514734.0, 140514741.0, 140514742.0, 140514743.0, 140514744.0, 140514745.0, 140514746.0, 140514752.0, 140514753.0, 140514754.0, 140514757.0, 140514758.0, 140514760.0, 140514761.0, 140514762.0, 140514765.0, 140514766.0, 140514770.0, 140514771.0, 140514772.0, 140514781.0, 140514784.0, 140514785.0, 140514786.0, 140514787.0, 140514788.0, 140514789.0, 140514798.0, 140514799.0, 140514812.0, 140514813.0, 140514815.0, 140514828.0, 140514829.0, 140514848.0, 140514849.0, 140514851.0, 140514853.0, 140514858.0, 140514859.0, 140514860.0, 140514861.0, 140514862.0, 140514863.0, 140514911.0, 140514914.0, 140514915.0, 140514922.0, 140514923.0, 140514948.0, 140514949.0, 140514959.0, 140514978.0, 140514979.0, 140514990.0, 140514991.0, 140514994.0, 140514995.0, 140515007.0, 140515009.0, 140515010.0, 140515011.0, 140515068.0, 140515069.0, 140515128.0, 140515129.0, 140515151.0, 140515152.0, 140515159.0, 140515160.0, 140515195.0, 140515196.0, 140515212.0, 140515213.0, 140515217.0, 140515220.0, 140515221.0, 140515224.0, 140515225.0, 140515231.0, 140515242.0, 140515243.0, 140515250.0, 140515251.0, 140515290.0, 140515323.0, 140515324.0, 140515358.0, 140515378.0, 140515380.0, 140515395.0, 140515419.0, 140515434.0, 140515435.0, 140515441.0, 140515446.0, 140515447.0, 140515449.0, 140515479.0, 140515498.0, 140515499.0, 140515512.0, 140515513.0, 140515558.0, 140515559.0, 140515566.0, 140515567.0, 140515576.0, 140515577.0, 140515584.0, 140515585.0, 140515621.0, 140515631.0, 140515633.0, 140515654.0, 140515655.0, 140515660.0, 140515661.0, 140515663.0, 140515667.0, 140515709.0, 140515722.0, 140515728.0, 140515738.0, 140515739.0, 140515741.0, 140515755.0, 140515760.0, 140515761.0, 140515795.0, 140515815.0, 140515820.0, 140515821.0, 140515841.0, 140515861.0, 140515862.0, 140515882.0, 140515900.0, 140515902.0, 140515912.0, 140515919.0, 140515920.0, 140515934.0, 140515946.0, 140515980.0, 140515995.0, 140515996.0, 140516006.0, 140516027.0, 140516028.0, 140516036.0, 140516038.0, 140516046.0, 140516072.0, 140516100.0, 140516102.0, 140516115.0, 140516116.0, 140516124.0, 140516130.0, 140516138.0, 140516194.0, 140516221.0, 140516235.0, 140516267.0, 140516305.0, 140516328.0, 140516330.0, 140516366.0, 140516368.0, 140516382.0, 140516388.0, 140516392.0, 140516398.0, 140516420.0, 140516424.0, 140516426.0, 140516436.0, 140516469.0, 140516513.0, 140516578.0, 140516640.0, 140516642.0, 140516656.0, 140516686.0, 140516704.0, 140516718.0, 140516722.0, 140516724.0, 140516726.0, 140516738.0, 140516740.0, 140516754.0, 140516759.0, 140516765.0, 140516771.0, 140516794.0, 140516795.0, 140516799.0, 140516807.0, 140516812.0, 140516814.0, 140516816.0, 140516822.0, 140516833.0, 140516837.0, 140516839.0, 140516841.0, 140516842.0, 140516843.0, 140516844.0, 140516845.0, 140516857.0, 140516864.0, 140516868.0, 140516876.0, 140516878.0, 140516882.0, 140516885.0, 140516886.0, 140516889.0, 140516890.0, 140516892.0, 140516894.0, 140516904.0, 140516908.0, 140516918.0, 140516926.0, 140516928.0, 140516934.0, 140516940.0, 140516944.0, 140516964.0, 140516984.0, 140516992.0, 140516998.0, 140517035.0, 140517036.0, 140517040.0, 140517041.0, 140517042.0, 140517043.0, 140517075.0, 140517077.0, 140517079.0, 140517087.0, 140517097.0, 140517099.0, 140517101.0, 140517125.0, 140517130.0, 140517133.0, 140517137.0, 140517139.0, 140517141.0, 140517143.0, 140517145.0, 140517147.0, 140517151.0, 140517153.0, 140517163.0, 140517169.0, 140517172.0, 140517174.0, 140517177.0, 140517186.0, 140517188.0, 140517190.0, 140517192.0, 140517194.0, 140517197.0, 140517201.0, 140517203.0, 140517205.0, 140517207.0, 140517209.0, 140517211.0, 140517213.0, 140517215.0, 140517219.0, 140517221.0, 140517226.0, 140517227.0, 140517228.0, 140517229.0, 140517231.0, 140517233.0, 140517235.0, 140517241.0, 140517243.0, 140517247.0, 140517248.0, 140517249.0, 140517250.0, 140517251.0, 140517255.0, 140517258.0, 140517260.0, 140517278.0, 140517280.0, 140517293.0, 140517305.0, 140517307.0, 140517309.0, 140517311.0, 140517314.0, 140517324.0, 140517328.0, 140517330.0, 140517335.0, 140517337.0, 140517341.0, 140517343.0, 140517345.0, 140517347.0, 140517349.0, 140517360.0, 140517367.0, 140517369.0, 140517371.0, 140517379.0, 140517387.0, 140517389.0, 140517391.0, 140517395.0, 140517397.0, 140517405.0, 140517409.0, 140517413.0, 140517418.0, 140517419.0, 140517420.0, 140517421.0, 140517422.0, 140517423.0, 140517426.0, 140517427.0, 140517430.0, 140517431.0, 140517436.0, 140517437.0, 140517440.0, 140517441.0, 140517454.0, 140517455.0, 140517456.0, 140517457.0, 140517463.0, 140517464.0, 140517466.0, 140517467.0, 140517468.0, 140517469.0, 140517470.0, 140517471.0, 140517472.0, 140517473.0, 140517474.0, 140517477.0, 140517478.0, 140517479.0, 140517480.0, 140517481.0, 140517482.0, 140517485.0, 140517486.0, 140517487.0, 140517488.0, 140517489.0, 140517496.0, 140517497.0, 140517498.0, 140517499.0, 140517500.0, 140517501.0, 140517502.0, 140517503.0, 140517504.0, 140517505.0, 140517506.0, 140517507.0, 140517508.0, 140517509.0, 140517510.0, 140517511.0, 140517512.0, 140517513.0, 140517514.0, 140517515.0, 140517518.0, 140517519.0, 140517520.0, 140517523.0, 140517524.0, 140517527.0, 140517528.0, 140517529.0, 140517530.0, 140517531.0, 140517532.0, 140517533.0, 140517534.0, 140517535.0, 140517536.0, 140517540.0, 140517545.0, 140517546.0, 140517563.0, 140517566.0, 140517567.0, 140517570.0, 140517571.0, 140517578.0, 140517580.0, 140517591.0, 140517592.0, 140517593.0, 140517607.0, 140517608.0, 140517609.0, 140517619.0, 140517620.0, 140517621.0, 140517622.0, 140517623.0, 140517624.0, 140517625.0, 140517626.0, 140517627.0, 140517628.0, 140517629.0, 140517630.0, 140517631.0, 140517632.0, 140517633.0, 140517646.0, 140517647.0, 140517648.0, 140517649.0, 140517650.0, 140517651.0, 140517654.0, 140517655.0, 140517660.0, 140517661.0, 140517664.0, 140517665.0, 140517666.0, 140517667.0, 140517668.0, 140517669.0, 140517673.0, 140517674.0, 140517675.0, 140517676.0, 140517680.0, 140517681.0, 140517682.0, 140517683.0, 140517686.0, 140517687.0, 140517688.0, 140517689.0, 140517690.0, 140517700.0, 140517701.0, 140517702.0, 140517707.0, 140517708.0, 140517709.0, 140517714.0, 140517739.0, 140517740.0, 140517745.0, 140517746.0, 140517747.0, 140517748.0, 140517759.0, 140517760.0, 140517761.0, 140517764.0, 140517765.0, 140517768.0, 140517769.0, 140517770.0, 140517771.0, 140517772.0, 140517773.0, 140517774.0, 140517777.0, 140517778.0, 140517779.0, 140517780.0, 140517781.0, 140517786.0, 140517787.0, 140517792.0, 140517793.0, 140517794.0, 140517795.0, 140517796.0, 140517801.0, 140517802.0, 140517805.0, 140517806.0, 140517809.0, 140517810.0, 140517811.0, 140517812.0, 140517817.0, 140517818.0, 140517819.0, 140517820.0, 140517822.0, 140517827.0, 140517828.0, 140517829.0, 140517830.0, 140517831.0, 140517832.0, 140517835.0, 140517838.0, 140517839.0, 140517840.0, 140517841.0, 140517842.0, 140517843.0, 140517846.0, 140517847.0, 140517848.0, 140517849.0, 140517850.0, 140517851.0, 140517852.0, 140517853.0, 140517854.0, 140517862.0, 140517863.0, 140517864.0, 140517865.0, 140517868.0, 140517869.0, 140517874.0, 140517875.0, 140517883.0, 140517884.0, 140517885.0, 140517886.0, 140517887.0, 140517890.0, 140517891.0, 140517892.0, 140517893.0, 140517902.0, 140517903.0, 140517904.0, 140517905.0, 140517906.0, 140517907.0, 140517908.0, 140517909.0, 140517918.0, 140517919.0, 140517938.0, 140517939.0, 140517940.0, 140517941.0, 140517944.0, 140517945.0, 140517946.0, 140517947.0, 140517952.0, 140517953.0, 140517976.0, 140517977.0, 140517982.0, 140517983.0, 140518000.0, 140518001.0, 140518004.0, 140518005.0, 140518006.0, 140518007.0, 140518008.0, 140518009.0, 140518012.0, 140518013.0, 140518014.0, 140518015.0, 140518020.0, 140518021.0, 140518022.0, 140518029.0, 140518030.0, 140518044.0, 140518045.0, 140518046.0, 140518047.0, 140518048.0, 140518049.0, 140518066.0, 140518067.0, 140518092.0, 140518115.0, 140518140.0, 140518141.0, 140518142.0, 140518143.0, 140518148.0, 140518149.0, 140518159.0, 140518160.0, 140518169.0, 140518170.0, 140518171.0, 140518172.0, 140518173.0, 140518174.0, 140518175.0, 140518176.0, 140518177.0, 140518190.0, 140518191.0, 140518197.0, 140518198.0, 140518203.0, 140518204.0, 140518207.0, 140518208.0, 140518209.0, 140518210.0, 140518256.0, 140518259.0, 140518260.0, 140518275.0, 140518276.0, 140518285.0, 140518286.0, 140518309.0, 140518310.0, 140518319.0, 140518320.0, 140518331.0, 140518332.0, 140518336.0, 140518337.0, 140518338.0, 140518339.0, 140518340.0, 140518341.0, 140518348.0, 140518349.0, 140518352.0, 140518353.0, 140518354.0, 140518357.0, 140518358.0, 140518359.0, 140518360.0, 140518361.0, 140518362.0, 140518363.0, 140518364.0, 140518365.0, 140518366.0, 140518367.0, 140518368.0, 140518371.0, 140518372.0, 140518373.0, 140518374.0, 140518376.0, 140518377.0, 140518378.0, 140518379.0, 140518380.0, 140518381.0, 140518384.0, 140518385.0, 140518389.0, 140518390.0, 140518391.0, 140518392.0, 140518393.0, 140518398.0, 140518399.0, 140518400.0, 140518401.0, 140518402.0, 140518403.0, 140518408.0, 140518409.0, 140518412.0, 140518415.0, 140518416.0, 140518417.0, 140518422.0, 140518423.0, 140518424.0, 140518427.0, 140518428.0, 140518429.0, 140518430.0, 140518431.0, 140518432.0, 140518433.0, 140518434.0, 140518435.0, 140518436.0, 140518438.0, 140518439.0, 140518440.0, 140518441.0, 140518442.0, 140518443.0, 140518444.0, 140518445.0, 140518446.0, 140518447.0, 140518448.0, 140518449.0, 140518450.0, 140518451.0, 140518454.0, 140518455.0, 140518457.0, 140518458.0, 140518459.0, 140518460.0, 140518461.0, 140518462.0, 140518463.0, 140518466.0, 140518467.0, 140518468.0, 140518469.0, 140518470.0, 140518471.0, 140518472.0, 140518473.0, 140518474.0, 140518475.0, 140518476.0, 140518477.0, 140518478.0, 140518479.0, 140518480.0, 140518481.0, 140518482.0, 140518483.0, 140518484.0, 140518485.0, 140518486.0, 140518487.0, 140518490.0, 140518491.0, 140518492.0, 140518493.0, 140518494.0, 140518495.0, 140518496.0, 140518497.0, 140518498.0, 140518499.0, 140518500.0, 140518505.0, 140518510.0, 140518511.0, 140518512.0, 140518513.0, 140518514.0, 140518517.0, 140518518.0, 140518520.0, 140518521.0, 140518524.0, 140518525.0, 140518533.0, 140518534.0, 140518535.0, 140518536.0, 140518537.0, 140518538.0, 140518540.0, 140518541.0, 140518544.0, 140518545.0, 140518546.0, 140518547.0, 140518549.0, 140518550.0, 140518553.0, 140518554.0, 140518556.0, 140518557.0, 140518560.0, 140518561.0, 140518567.0, 140518568.0, 140518571.0, 140518572.0, 140518580.0, 140518581.0, 140518591.0, 140518592.0, 140518593.0, 140518594.0, 140518595.0, 140518596.0, 140518597.0, 140518598.0, 140518599.0, 140518606.0, 140518607.0, 140518608.0, 140518609.0, 140518610.0, 140518611.0, 140518615.0, 140518618.0, 140518619.0, 140518622.0, 140518623.0, 140518624.0, 140518625.0, 140518626.0, 140518627.0, 140518628.0, 140518629.0, 140518630.0, 140518631.0, 140518632.0, 140518633.0, 140518634.0, 140518635.0, 140518636.0, 140518637.0, 140518644.0, 140518645.0, 140518646.0, 140518647.0, 140518648.0, 140518649.0, 140518650.0, 140518651.0, 140518652.0, 140518653.0, 140518654.0, 140518655.0, 140518656.0, 140518657.0, 140518658.0, 140518659.0, 140518662.0, 140518663.0, 140518664.0, 140518665.0, 140518666.0, 140518667.0, 140518668.0, 140518669.0, 140518670.0, 140518671.0, 140518674.0, 140518675.0, 140518676.0, 140518677.0, 140518678.0, 140518679.0, 140518680.0, 140518681.0, 140518682.0, 140518683.0, 140518686.0, 140518687.0, 140518688.0, 140518689.0, 140518692.0, 140518693.0, 140518695.0, 140518696.0, 140518697.0, 140518698.0, 140518699.0, 140518714.0, 140518715.0, 140518720.0, 140518721.0, 140518724.0, 140518725.0, 140518732.0, 140518733.0, 140518734.0, 140518735.0, 140518738.0, 140518739.0, 140518740.0, 140518741.0, 140518742.0, 140518743.0, 140518744.0, 140518745.0, 140518746.0, 140518747.0, 140518748.0, 140518749.0, 140518751.0, 140518752.0, 140518753.0, 140518754.0, 140518755.0, 140518756.0, 140518757.0, 140518758.0, 140518759.0, 140518760.0, 140518763.0, 140518764.0, 140518765.0, 140518766.0, 140518767.0, 140518768.0, 140518769.0, 140518770.0, 140518771.0, 140518772.0, 140518773.0, 140518774.0, 140518777.0, 140518778.0, 140518779.0, 140518780.0, 140518783.0, 140518784.0, 140518785.0, 140518786.0, 140518787.0, 140518788.0, 140518789.0, 140518790.0, 140518793.0, 140518794.0, 140518795.0, 140518796.0, 140518797.0, 140518798.0, 140518799.0, 140518800.0, 140518801.0, 140518802.0, 140518803.0, 140518804.0, 140518805.0, 140518806.0, 140518807.0, 140518808.0, 140518809.0, 140518810.0, 140518811.0, 140518812.0, 140518813.0, 140518814.0, 140518815.0, 140518816.0, 140518817.0, 140518818.0, 140518821.0, 140518822.0, 140518823.0, 140518824.0, 140518825.0, 140518826.0, 140518827.0, 140518828.0, 140518829.0, 140518830.0, 140518831.0, 140518832.0, 140518835.0, 140518836.0, 140518841.0, 140518842.0, 140518843.0, 140518844.0, 140518847.0, 140518848.0, 140518849.0, 140518850.0, 140518851.0, 140518852.0, 140518853.0, 140518854.0, 140518855.0, 140518856.0, 140518857.0, 140518858.0, 140518859.0, 140518860.0, 140518861.0, 140518862.0, 140518863.0, 140518864.0, 140518865.0, 140518866.0, 140518867.0, 140518868.0, 140518869.0, 140518870.0, 140518871.0, 140518872.0, 140518873.0, 140518874.0, 140518875.0, 140518876.0, 140518877.0, 140518878.0, 140518879.0, 140518880.0, 140518881.0, 140518882.0, 140518883.0, 140518884.0, 140518885.0, 140518886.0, 140518889.0, 140518890.0, 140518891.0, 140518892.0, 140518893.0, 140518894.0, 140518895.0, 140518896.0, 140518897.0, 140518898.0, 140518901.0, 140518902.0, 140518903.0, 140518904.0, 140518905.0, 140518906.0, 140518907.0, 140518908.0, 140518909.0, 140518910.0, 140518911.0, 140518912.0, 140518913.0, 140518914.0, 140518915.0, 140518916.0, 140518917.0, 140518918.0, 140518921.0, 140518922.0, 140518923.0, 140518924.0, 140518925.0, 140518926.0, 140518929.0, 140518930.0, 140518931.0, 140518932.0, 140518933.0, 140518934.0, 140518935.0, 140518936.0, 140518937.0, 140518938.0, 140518939.0, 140518940.0, 140518941.0, 140518942.0, 140518947.0, 140518948.0, 140518949.0, 140518950.0, 140518951.0, 140518952.0, 140518953.0, 140518954.0, 140518955.0, 140518956.0, 140518957.0, 140518958.0, 140518959.0, 140518960.0, 140518961.0, 140518962.0, 140518963.0, 140518964.0, 140518965.0, 140518966.0, 140518967.0, 140518968.0, 140518969.0, 140518970.0, 140518973.0, 140518974.0, 140518975.0, 140518976.0, 140518977.0, 140518978.0, 140518979.0, 140518980.0, 140518981.0, 140518982.0, 140518983.0, 140518984.0, 140518985.0, 140518986.0, 140518987.0, 140518988.0, 140518991.0, 140518992.0, 140518995.0, 140518996.0, 140518997.0, 140518998.0, 140518999.0, 140519000.0, 140519001.0, 140519002.0, 140519003.0, 140519004.0, 140519009.0, 140519010.0, 140519011.0, 140519012.0, 140519013.0, 140519014.0, 140519016.0, 140519017.0, 140519018.0, 140519019.0, 140519020.0, 140519021.0, 140519022.0, 140519023.0, 140519024.0, 140519025.0, 140519030.0, 140519031.0, 140519032.0, 140519033.0, 140519034.0, 140519035.0, 140519038.0, 140519039.0, 140519040.0, 140519041.0, 140519043.0, 140519044.0, 140519045.0, 140519046.0, 140519047.0, 140519048.0, 140519049.0, 140519050.0, 140519051.0, 140519052.0, 140519053.0, 140519054.0, 140519056.0, 140519057.0, 140519058.0, 140519059.0, 140519060.0, 140519061.0, 140519062.0, 140519063.0, 140519070.0, 140519071.0, 140519072.0, 140519073.0, 140519074.0, 140519075.0, 140519076.0, 140519077.0, 140519078.0, 140519079.0, 140519080.0, 140519081.0, 140519082.0, 140519083.0, 140519084.0, 140519085.0, 140519086.0, 140519087.0, 140519088.0, 140519089.0, 140519090.0, 140519091.0, 140519092.0, 140519093.0, 140519094.0, 140519095.0, 140519096.0, 140519097.0, 140519098.0, 140519099.0, 140519103.0, 140519104.0, 140519108.0, 140519112.0, 140519113.0, 140519114.0, 140519115.0, 140519116.0, 140519117.0, 140519118.0, 140519119.0, 140519120.0, 140519121.0, 140519122.0, 140519123.0, 140519124.0, 140519126.0, 140519127.0, 140519128.0, 140519129.0, 140519130.0, 140519131.0, 140519134.0, 140519135.0, 140519136.0, 140519137.0, 140519138.0, 140519139.0, 140519140.0, 140519141.0, 140519142.0, 140519143.0, 140519144.0, 140519145.0, 140519146.0, 140519147.0, 140519150.0, 140519151.0, 140519158.0, 140519159.0, 140519160.0, 140519161.0, 140519162.0, 140519163.0, 140519164.0, 140519165.0, 140519166.0, 140519167.0, 140519168.0, 140519169.0, 140519170.0, 140519171.0, 140519172.0, 140519173.0, 140519174.0, 140519175.0, 140519176.0, 140519177.0, 140519178.0, 140519179.0, 140519180.0, 140519181.0, 140519189.0, 140519190.0, 140519191.0, 140519192.0, 140519193.0, 140519194.0, 140519195.0, 140519196.0, 140519199.0, 140519200.0, 140519201.0, 140519202.0, 140519203.0, 140519204.0, 140519205.0, 140519206.0, 140519207.0, 140519208.0, 140519211.0, 140519212.0, 140519213.0, 140519214.0, 140519215.0, 140519216.0, 140519217.0, 140519218.0, 140519219.0, 140519220.0]\n"
     ]
    },
    {
     "name": "stderr",
     "output_type": "stream",
     "text": [
      "C:\\Users\\dsram\\AppData\\Local\\Temp\\ipykernel_20240\\3731339935.py:11: UserWarning: pandas only supports SQLAlchemy connectable (engine/connection) or database string URI or sqlite3 DBAPI2 connection. Other DBAPI2 objects are not tested. Please consider using SQLAlchemy.\n",
      "  scheme_master = pd.read_sql_query(sql, conn)\n",
      "C:\\Users\\dsram\\AppData\\Local\\Temp\\ipykernel_20240\\3731339935.py:16: UserWarning: pandas only supports SQLAlchemy connectable (engine/connection) or database string URI or sqlite3 DBAPI2 connection. Other DBAPI2 objects are not tested. Please consider using SQLAlchemy.\n",
      "  mf_category_mapping = pd.read_sql_query(sql, conn)\n"
     ]
    }
   ],
   "source": [
    "from utils.db_helper import DB_Helper\n",
    "import pandas as pd\n",
    "\n",
    "# Initialize the DB_Helper object\n",
    "db = DB_Helper()\n",
    "conn = db.db_connect()\n",
    "cur=conn.cursor()\n",
    "\n",
    "# read from database where table name is SchemeMaster and column name is SchemeCode distinct values use {}\n",
    "sql = \"\"\"SELECT DISTINCT ON (\"SchemeCode\") * FROM public.\"SchemeMaster\" where \"SchemePlanCode\"='2066' and \"MainCategory\"='Equity' \"\"\"\n",
    "scheme_master = pd.read_sql_query(sql, conn)\n",
    "print(len(scheme_master))\n",
    "\n",
    "# read from database where table name is mf_category_mapping \n",
    "sql = \"\"\"SELECT * FROM public.\"mf_category_mapping\" \"\"\"\n",
    "mf_category_mapping = pd.read_sql_query(sql, conn)\n",
    "\n",
    "# get a list of schemecodes that are not in mf_category_mapping\n",
    "missing_schemecodes = scheme_master[~scheme_master['SchemeCode'].isin(mf_category_mapping['scheme_code'])]\n",
    "\n",
    "print(len(missing_schemecodes))\n",
    "print(list(missing_schemecodes['SchemeCode']))\n",
    "\n",
    "missing_schemecodes.to_csv('missing_schemecodes.csv', index=False)"
   ]
  },
  {
   "cell_type": "markdown",
   "metadata": {},
   "source": [
    "## FRS run"
   ]
  },
  {
   "cell_type": "code",
   "execution_count": null,
   "metadata": {},
   "outputs": [
    {
     "name": "stdout",
     "output_type": "stream",
     "text": [
      "Deleting MFMergeList data for: 2020-08-02 00:00:00\n"
     ]
    }
   ],
   "source": [
    "from reports.FRS import FRS\n",
    "from lib.mf_ohlc import MFOHLC\n",
    "import pandas as pd\n",
    "# from utils.report_delete import deleteFRS\n",
    "from utils.db_helper import DB_Helper   \n",
    "import warnings\n",
    "warnings.filterwarnings(\"ignore\") \n",
    "\n",
    "conn= DB_Helper().db_connect()\n",
    "cur = conn.cursor()\n",
    "\n",
    "def deleteFRS(curr_date, end_date):\n",
    "\n",
    "    conn = DB_Helper().db_connect()\n",
    "    cur = conn.cursor()\n",
    "\n",
    "    print(\"Deleting MFMergeList data for:\",curr_date)\n",
    "    mfmerge_sql = 'DELETE FROM public.\"MFMergeList\" WHERE \"GenDate\">=\\'' + (curr_date) + '\\' AND \"GenDate\" <=\\'' + (end_date) + '\\';'\n",
    "    cur.execute(mfmerge_sql)\n",
    "    conn.commit()\n",
    "\n",
    "    print(\"Deleting FRS MF Rank data for:\",curr_date)\n",
    "    frs_navrank_sql = 'DELETE FROM \"Reports\".\"FRS-MFRank\" WHERE \"Date\">=\\'' + (curr_date) + '\\' AND \"Date\" <= \\'' + (end_date) + '\\';'\n",
    "    cur.execute(frs_navrank_sql)\n",
    "    conn.commit()\n",
    "    \n",
    "    print(\"Deleting FRS-NAVRank data for:\",curr_date)\n",
    "    frs_nav_sql = 'DELETE FROM \"Reports\".\"FRS-NAVRank\" WHERE \"Date\">=\\'' + (curr_date) + '\\' AND \"Date\" <= \\'' + (end_date) + '\\';'\n",
    "    cur.execute(frs_nav_sql)\n",
    "    conn.commit()\n",
    "\n",
    "    print(\"Deleting FRS-NAV Category Avg data for:\",curr_date)\n",
    "    frs_sql = 'DELETE FROM \"Reports\".\"FRS-NAVCategoryAvg\" WHERE \"Date\">=\\'' + (curr_date) + '\\' AND \"Date\" <= \\'' + (end_date) + '\\';'         \n",
    "    cur.execute(frs_sql)\n",
    "    conn.commit()\n",
    "\n",
    "    print(\"deleting MF ohlc for:\", curr_date)\n",
    "    mfohlc_sql = 'delete from public.mf_ohlc where date >= \\'' + (curr_date) + '\\' AND date <= \\'' + (end_date) + '\\';'         \n",
    "    cur.execute(mfohlc_sql)\n",
    "    conn.commit()\n",
    "\n",
    "    conn.close()\n",
    "    \n",
    "# deleteFRS(start_date, end_date)\n",
    "\n",
    "\n",
    "\n",
    "start_date = '2020-08-02'\n",
    "# end_date = '2025-02-07'\n",
    "end_date = '2025-02-07'\n",
    "\n",
    "for curr_date in pd.date_range(start=start_date, end=end_date):\n",
    "        deleteFRS(str(curr_date), str(curr_date))\n",
    "        FRS().generate_current_mfrank(curr_date,conn,cur)\n",
    "        # scheme_master_nav, merge_scheme_nav, mf_category_mapping, scheme_nav_current_prices, scheme_rank, scheme_nav_category_avg = FRS().calc_nav_rank(conn,cur, curr_date)\n",
    "        FRS().generate_current_nav_rank(curr_date,conn,cur)\n",
    "        MFOHLC().gen_mf_ohlc_current(curr_date,conn,cur)"
   ]
  },
  {
   "cell_type": "code",
   "execution_count": null,
   "metadata": {},
   "outputs": [],
   "source": []
  }
 ],
 "metadata": {
  "kernelspec": {
   "display_name": "Python 3",
   "language": "python",
   "name": "python3"
  },
  "language_info": {
   "codemirror_mode": {
    "name": "ipython",
    "version": 3
   },
   "file_extension": ".py",
   "mimetype": "text/x-python",
   "name": "python",
   "nbconvert_exporter": "python",
   "pygments_lexer": "ipython3",
   "version": "3.12.1"
  }
 },
 "nbformat": 4,
 "nbformat_minor": 2
}
