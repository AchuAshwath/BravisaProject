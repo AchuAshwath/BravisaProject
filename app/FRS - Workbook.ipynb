{
 "cells": [
  {
   "cell_type": "code",
   "execution_count": 1,
   "metadata": {},
   "outputs": [
    {
     "name": "stderr",
     "output_type": "stream",
     "text": [
      "WARNING: Ignoring invalid distribution -atplotlib (c:\\users\\admin\\anaconda3\\lib\\site-packages)\n"
     ]
    }
   ],
   "source": [
    "!pip freeze > requirements.txt"
   ]
  },
  {
   "cell_type": "code",
   "execution_count": 15,
   "metadata": {},
   "outputs": [
    {
     "data": {
      "text/html": [
       "<div>\n",
       "<style scoped>\n",
       "    .dataframe tbody tr th:only-of-type {\n",
       "        vertical-align: middle;\n",
       "    }\n",
       "\n",
       "    .dataframe tbody tr th {\n",
       "        vertical-align: top;\n",
       "    }\n",
       "\n",
       "    .dataframe thead th {\n",
       "        text-align: right;\n",
       "    }\n",
       "</style>\n",
       "<table border=\"1\" class=\"dataframe\">\n",
       "  <thead>\n",
       "    <tr style=\"text-align: right;\">\n",
       "      <th></th>\n",
       "      <th>Unnamed: 0</th>\n",
       "      <th>SchemeCode</th>\n",
       "      <th>SecurityCode</th>\n",
       "      <th>SchemePlanCode</th>\n",
       "      <th>SchemePlanDescription</th>\n",
       "      <th>MappingCode</th>\n",
       "      <th>MappingName</th>\n",
       "      <th>IssuePrice</th>\n",
       "      <th>Description</th>\n",
       "      <th>IssueDate</th>\n",
       "      <th>...</th>\n",
       "      <th>ISINCode</th>\n",
       "      <th>BenchMarkIndex</th>\n",
       "      <th>BenchMarkIndexName</th>\n",
       "      <th>ModifiedDate</th>\n",
       "      <th>DeleteFlag</th>\n",
       "      <th>scheme_name</th>\n",
       "      <th>scheme_category</th>\n",
       "      <th>date</th>\n",
       "      <th>btt_scheme_code</th>\n",
       "      <th>btt_scheme_category</th>\n",
       "    </tr>\n",
       "  </thead>\n",
       "  <tbody>\n",
       "    <tr>\n",
       "      <th>0</th>\n",
       "      <td>1</td>\n",
       "      <td>1.405000e+07</td>\n",
       "      <td>1.405000e+07</td>\n",
       "      <td>2066</td>\n",
       "      <td>Growth</td>\n",
       "      <td>100656</td>\n",
       "      <td>UTI - Master Plus Unit Scheme-Growth Option</td>\n",
       "      <td>0.0</td>\n",
       "      <td>UTI Master Plus 91 Unit Scheme</td>\n",
       "      <td>NaN</td>\n",
       "      <td>...</td>\n",
       "      <td>NaN</td>\n",
       "      <td>1.702393e+07</td>\n",
       "      <td>S&amp;P BSE Sensex</td>\n",
       "      <td>2015-12-15 19:12:12</td>\n",
       "      <td>True</td>\n",
       "      <td>NaN</td>\n",
       "      <td>NaN</td>\n",
       "      <td>NaN</td>\n",
       "      <td>NaN</td>\n",
       "      <td>NaN</td>\n",
       "    </tr>\n",
       "    <tr>\n",
       "      <th>1</th>\n",
       "      <td>2</td>\n",
       "      <td>1.405000e+07</td>\n",
       "      <td>1.405000e+07</td>\n",
       "      <td>2066</td>\n",
       "      <td>Growth</td>\n",
       "      <td>100651</td>\n",
       "      <td>UTI - Master Share-Growth Option</td>\n",
       "      <td>0.0</td>\n",
       "      <td>UTI Mastershare</td>\n",
       "      <td>NaN</td>\n",
       "      <td>...</td>\n",
       "      <td>NaN</td>\n",
       "      <td>1.702393e+07</td>\n",
       "      <td>S&amp;P BSE 100 Total Return</td>\n",
       "      <td>2020-01-08 19:49:52</td>\n",
       "      <td>False</td>\n",
       "      <td>UTI Mastershare</td>\n",
       "      <td>Equity-LargeCap</td>\n",
       "      <td>2019-09-04</td>\n",
       "      <td>UTIMASHARE-G</td>\n",
       "      <td>Large Cap</td>\n",
       "    </tr>\n",
       "    <tr>\n",
       "      <th>2</th>\n",
       "      <td>4</td>\n",
       "      <td>1.405000e+07</td>\n",
       "      <td>1.405000e+07</td>\n",
       "      <td>2066</td>\n",
       "      <td>Growth</td>\n",
       "      <td>1#220</td>\n",
       "      <td>CANBONUS</td>\n",
       "      <td>0.0</td>\n",
       "      <td>Canbonus</td>\n",
       "      <td>NaN</td>\n",
       "      <td>...</td>\n",
       "      <td>NaN</td>\n",
       "      <td>1.702393e+07</td>\n",
       "      <td>S&amp;P BSE Sensex</td>\n",
       "      <td>2015-12-15 19:12:12</td>\n",
       "      <td>True</td>\n",
       "      <td>NaN</td>\n",
       "      <td>NaN</td>\n",
       "      <td>NaN</td>\n",
       "      <td>NaN</td>\n",
       "      <td>NaN</td>\n",
       "    </tr>\n",
       "    <tr>\n",
       "      <th>3</th>\n",
       "      <td>5</td>\n",
       "      <td>1.405000e+07</td>\n",
       "      <td>1.405000e+07</td>\n",
       "      <td>2066</td>\n",
       "      <td>Growth</td>\n",
       "      <td>1#359</td>\n",
       "      <td>CANTRIPLE+</td>\n",
       "      <td>0.0</td>\n",
       "      <td>Cantriple(G)</td>\n",
       "      <td>NaN</td>\n",
       "      <td>...</td>\n",
       "      <td>NaN</td>\n",
       "      <td>1.702393e+07</td>\n",
       "      <td>S&amp;P BSE Sensex</td>\n",
       "      <td>2015-12-15 19:12:12</td>\n",
       "      <td>True</td>\n",
       "      <td>NaN</td>\n",
       "      <td>NaN</td>\n",
       "      <td>NaN</td>\n",
       "      <td>NaN</td>\n",
       "      <td>NaN</td>\n",
       "    </tr>\n",
       "    <tr>\n",
       "      <th>4</th>\n",
       "      <td>6</td>\n",
       "      <td>1.405000e+07</td>\n",
       "      <td>1.405000e+07</td>\n",
       "      <td>2066</td>\n",
       "      <td>Growth</td>\n",
       "      <td>2#226</td>\n",
       "      <td>CANPEP 95</td>\n",
       "      <td>0.0</td>\n",
       "      <td>Canpep '95(G)</td>\n",
       "      <td>NaN</td>\n",
       "      <td>...</td>\n",
       "      <td>NaN</td>\n",
       "      <td>1.702393e+07</td>\n",
       "      <td>S&amp;P BSE Sensex</td>\n",
       "      <td>2015-12-15 19:12:12</td>\n",
       "      <td>True</td>\n",
       "      <td>NaN</td>\n",
       "      <td>NaN</td>\n",
       "      <td>NaN</td>\n",
       "      <td>NaN</td>\n",
       "      <td>NaN</td>\n",
       "    </tr>\n",
       "    <tr>\n",
       "      <th>...</th>\n",
       "      <td>...</td>\n",
       "      <td>...</td>\n",
       "      <td>...</td>\n",
       "      <td>...</td>\n",
       "      <td>...</td>\n",
       "      <td>...</td>\n",
       "      <td>...</td>\n",
       "      <td>...</td>\n",
       "      <td>...</td>\n",
       "      <td>...</td>\n",
       "      <td>...</td>\n",
       "      <td>...</td>\n",
       "      <td>...</td>\n",
       "      <td>...</td>\n",
       "      <td>...</td>\n",
       "      <td>...</td>\n",
       "      <td>...</td>\n",
       "      <td>...</td>\n",
       "      <td>...</td>\n",
       "      <td>...</td>\n",
       "      <td>...</td>\n",
       "    </tr>\n",
       "    <tr>\n",
       "      <th>8714</th>\n",
       "      <td>16534</td>\n",
       "      <td>1.405188e+08</td>\n",
       "      <td>1.405188e+08</td>\n",
       "      <td>2066</td>\n",
       "      <td>Growth</td>\n",
       "      <td>152582.0</td>\n",
       "      <td>TRUSTMF Flexi Cap Fund-Regular Plan- Growth</td>\n",
       "      <td>0.0</td>\n",
       "      <td>TRUSTMF Flexi Cap Fund</td>\n",
       "      <td>NaN</td>\n",
       "      <td>...</td>\n",
       "      <td>NaN</td>\n",
       "      <td>1.702393e+07</td>\n",
       "      <td>NIfty 500 Total Return</td>\n",
       "      <td>2024-04-01 17:11:17</td>\n",
       "      <td>False</td>\n",
       "      <td>NaN</td>\n",
       "      <td>NaN</td>\n",
       "      <td>NaN</td>\n",
       "      <td>NaN</td>\n",
       "      <td>NaN</td>\n",
       "    </tr>\n",
       "    <tr>\n",
       "      <th>8715</th>\n",
       "      <td>16536</td>\n",
       "      <td>1.405188e+08</td>\n",
       "      <td>1.405188e+08</td>\n",
       "      <td>2066</td>\n",
       "      <td>Growth</td>\n",
       "      <td>152590.0</td>\n",
       "      <td>Tata Nifty500 Multicap India Manufacturing 50 ...</td>\n",
       "      <td>0.0</td>\n",
       "      <td>Tata Nifty500 Multicap India Manufacturing 50 ...</td>\n",
       "      <td>NaN</td>\n",
       "      <td>...</td>\n",
       "      <td>NaN</td>\n",
       "      <td>NaN</td>\n",
       "      <td>NaN</td>\n",
       "      <td>2024-04-02 10:05:57</td>\n",
       "      <td>False</td>\n",
       "      <td>NaN</td>\n",
       "      <td>NaN</td>\n",
       "      <td>NaN</td>\n",
       "      <td>NaN</td>\n",
       "      <td>NaN</td>\n",
       "    </tr>\n",
       "    <tr>\n",
       "      <th>8716</th>\n",
       "      <td>16537</td>\n",
       "      <td>1.405188e+08</td>\n",
       "      <td>1.405188e+08</td>\n",
       "      <td>2066</td>\n",
       "      <td>Growth</td>\n",
       "      <td>152588.0</td>\n",
       "      <td>Tata Nifty500 Multicap India Manufacturing 50 ...</td>\n",
       "      <td>0.0</td>\n",
       "      <td>Tata Nifty500 Multicap India Manufacturing 50 ...</td>\n",
       "      <td>NaN</td>\n",
       "      <td>...</td>\n",
       "      <td>NaN</td>\n",
       "      <td>NaN</td>\n",
       "      <td>NaN</td>\n",
       "      <td>2024-04-02 10:06:43</td>\n",
       "      <td>False</td>\n",
       "      <td>NaN</td>\n",
       "      <td>NaN</td>\n",
       "      <td>NaN</td>\n",
       "      <td>NaN</td>\n",
       "      <td>NaN</td>\n",
       "    </tr>\n",
       "    <tr>\n",
       "      <th>8717</th>\n",
       "      <td>16538</td>\n",
       "      <td>1.405188e+08</td>\n",
       "      <td>1.405188e+08</td>\n",
       "      <td>2066</td>\n",
       "      <td>Growth</td>\n",
       "      <td>152587.0</td>\n",
       "      <td>Samco Special Opportunities Fund - Regular Pla...</td>\n",
       "      <td>0.0</td>\n",
       "      <td>Samco Special Opportunities Fund</td>\n",
       "      <td>NaN</td>\n",
       "      <td>...</td>\n",
       "      <td>NaN</td>\n",
       "      <td>1.702393e+07</td>\n",
       "      <td>NIfty 500 Total Return</td>\n",
       "      <td>2024-04-02 10:27:44</td>\n",
       "      <td>False</td>\n",
       "      <td>NaN</td>\n",
       "      <td>NaN</td>\n",
       "      <td>NaN</td>\n",
       "      <td>NaN</td>\n",
       "      <td>NaN</td>\n",
       "    </tr>\n",
       "    <tr>\n",
       "      <th>8718</th>\n",
       "      <td>16539</td>\n",
       "      <td>1.405188e+08</td>\n",
       "      <td>1.405188e+08</td>\n",
       "      <td>2066</td>\n",
       "      <td>Growth</td>\n",
       "      <td>152586.0</td>\n",
       "      <td>Samco Special Opportunities Fund - Direct Plan...</td>\n",
       "      <td>0.0</td>\n",
       "      <td>Samco Special Opportunities Fund - Direct Plan</td>\n",
       "      <td>NaN</td>\n",
       "      <td>...</td>\n",
       "      <td>NaN</td>\n",
       "      <td>1.702393e+07</td>\n",
       "      <td>NIfty 500 Total Return</td>\n",
       "      <td>2024-04-02 10:27:58</td>\n",
       "      <td>False</td>\n",
       "      <td>NaN</td>\n",
       "      <td>NaN</td>\n",
       "      <td>NaN</td>\n",
       "      <td>NaN</td>\n",
       "      <td>NaN</td>\n",
       "    </tr>\n",
       "  </tbody>\n",
       "</table>\n",
       "<p>8719 rows × 23 columns</p>\n",
       "</div>"
      ],
      "text/plain": [
       "      Unnamed: 0    SchemeCode  SecurityCode  SchemePlanCode  \\\n",
       "0              1  1.405000e+07  1.405000e+07            2066   \n",
       "1              2  1.405000e+07  1.405000e+07            2066   \n",
       "2              4  1.405000e+07  1.405000e+07            2066   \n",
       "3              5  1.405000e+07  1.405000e+07            2066   \n",
       "4              6  1.405000e+07  1.405000e+07            2066   \n",
       "...          ...           ...           ...             ...   \n",
       "8714       16534  1.405188e+08  1.405188e+08            2066   \n",
       "8715       16536  1.405188e+08  1.405188e+08            2066   \n",
       "8716       16537  1.405188e+08  1.405188e+08            2066   \n",
       "8717       16538  1.405188e+08  1.405188e+08            2066   \n",
       "8718       16539  1.405188e+08  1.405188e+08            2066   \n",
       "\n",
       "     SchemePlanDescription MappingCode  \\\n",
       "0                   Growth      100656   \n",
       "1                   Growth      100651   \n",
       "2                   Growth       1#220   \n",
       "3                   Growth       1#359   \n",
       "4                   Growth       2#226   \n",
       "...                    ...         ...   \n",
       "8714                Growth    152582.0   \n",
       "8715                Growth    152590.0   \n",
       "8716                Growth    152588.0   \n",
       "8717                Growth    152587.0   \n",
       "8718                Growth    152586.0   \n",
       "\n",
       "                                            MappingName  IssuePrice  \\\n",
       "0           UTI - Master Plus Unit Scheme-Growth Option         0.0   \n",
       "1                      UTI - Master Share-Growth Option         0.0   \n",
       "2                                              CANBONUS         0.0   \n",
       "3                                            CANTRIPLE+         0.0   \n",
       "4                                             CANPEP 95         0.0   \n",
       "...                                                 ...         ...   \n",
       "8714        TRUSTMF Flexi Cap Fund-Regular Plan- Growth         0.0   \n",
       "8715  Tata Nifty500 Multicap India Manufacturing 50 ...         0.0   \n",
       "8716  Tata Nifty500 Multicap India Manufacturing 50 ...         0.0   \n",
       "8717  Samco Special Opportunities Fund - Regular Pla...         0.0   \n",
       "8718  Samco Special Opportunities Fund - Direct Plan...         0.0   \n",
       "\n",
       "                                            Description IssueDate  ...  \\\n",
       "0                        UTI Master Plus 91 Unit Scheme       NaN  ...   \n",
       "1                                       UTI Mastershare       NaN  ...   \n",
       "2                                              Canbonus       NaN  ...   \n",
       "3                                          Cantriple(G)       NaN  ...   \n",
       "4                                         Canpep '95(G)       NaN  ...   \n",
       "...                                                 ...       ...  ...   \n",
       "8714                             TRUSTMF Flexi Cap Fund       NaN  ...   \n",
       "8715  Tata Nifty500 Multicap India Manufacturing 50 ...       NaN  ...   \n",
       "8716  Tata Nifty500 Multicap India Manufacturing 50 ...       NaN  ...   \n",
       "8717                   Samco Special Opportunities Fund       NaN  ...   \n",
       "8718     Samco Special Opportunities Fund - Direct Plan       NaN  ...   \n",
       "\n",
       "     ISINCode  BenchMarkIndex        BenchMarkIndexName         ModifiedDate  \\\n",
       "0         NaN    1.702393e+07            S&P BSE Sensex  2015-12-15 19:12:12   \n",
       "1         NaN    1.702393e+07  S&P BSE 100 Total Return  2020-01-08 19:49:52   \n",
       "2         NaN    1.702393e+07            S&P BSE Sensex  2015-12-15 19:12:12   \n",
       "3         NaN    1.702393e+07            S&P BSE Sensex  2015-12-15 19:12:12   \n",
       "4         NaN    1.702393e+07            S&P BSE Sensex  2015-12-15 19:12:12   \n",
       "...       ...             ...                       ...                  ...   \n",
       "8714      NaN    1.702393e+07    NIfty 500 Total Return  2024-04-01 17:11:17   \n",
       "8715      NaN             NaN                       NaN  2024-04-02 10:05:57   \n",
       "8716      NaN             NaN                       NaN  2024-04-02 10:06:43   \n",
       "8717      NaN    1.702393e+07    NIfty 500 Total Return  2024-04-02 10:27:44   \n",
       "8718      NaN    1.702393e+07    NIfty 500 Total Return  2024-04-02 10:27:58   \n",
       "\n",
       "      DeleteFlag      scheme_name  scheme_category        date  \\\n",
       "0           True              NaN              NaN         NaN   \n",
       "1          False  UTI Mastershare  Equity-LargeCap  2019-09-04   \n",
       "2           True              NaN              NaN         NaN   \n",
       "3           True              NaN              NaN         NaN   \n",
       "4           True              NaN              NaN         NaN   \n",
       "...          ...              ...              ...         ...   \n",
       "8714       False              NaN              NaN         NaN   \n",
       "8715       False              NaN              NaN         NaN   \n",
       "8716       False              NaN              NaN         NaN   \n",
       "8717       False              NaN              NaN         NaN   \n",
       "8718       False              NaN              NaN         NaN   \n",
       "\n",
       "     btt_scheme_code btt_scheme_category  \n",
       "0                NaN                 NaN  \n",
       "1       UTIMASHARE-G           Large Cap  \n",
       "2                NaN                 NaN  \n",
       "3                NaN                 NaN  \n",
       "4                NaN                 NaN  \n",
       "...              ...                 ...  \n",
       "8714             NaN                 NaN  \n",
       "8715             NaN                 NaN  \n",
       "8716             NaN                 NaN  \n",
       "8717             NaN                 NaN  \n",
       "8718             NaN                 NaN  \n",
       "\n",
       "[8719 rows x 23 columns]"
      ]
     },
     "execution_count": 15,
     "metadata": {},
     "output_type": "execute_result"
    }
   ],
   "source": [
    "import pandas as pd\n",
    "\n",
    "# read the 2066plan code file\n",
    "df = pd.read_csv('2066-SchemePlanCode.csv')\n",
    "df"
   ]
  },
  {
   "cell_type": "code",
   "execution_count": 8,
   "metadata": {},
   "outputs": [
    {
     "data": {
      "text/plain": [
       "Index(['Unnamed: 0', 'SchemeCode', 'SecurityCode', 'SchemePlanCode',\n",
       "       'SchemePlanDescription', 'MappingCode', 'MappingName', 'IssuePrice',\n",
       "       'Description', 'IssueDate', 'ExpiryDate', 'FaceValue', 'MarketLot',\n",
       "       'ISINCode', 'BenchMarkIndex', 'BenchMarkIndexName', 'ModifiedDate',\n",
       "       'DeleteFlag', 'scheme_name', 'scheme_category', 'date',\n",
       "       'btt_scheme_code', 'btt_scheme_category'],\n",
       "      dtype='object')"
      ]
     },
     "execution_count": 8,
     "metadata": {},
     "output_type": "execute_result"
    }
   ],
   "source": [
    "df.columns"
   ]
  },
  {
   "cell_type": "code",
   "execution_count": 11,
   "metadata": {},
   "outputs": [
    {
     "data": {
      "text/plain": [
       "array(['Growth', '41-TRIAL-Growth 167'], dtype=object)"
      ]
     },
     "execution_count": 11,
     "metadata": {},
     "output_type": "execute_result"
    }
   ],
   "source": [
    "df['SchemePlanDescription'].unique()"
   ]
  },
  {
   "cell_type": "code",
   "execution_count": 58,
   "metadata": {},
   "outputs": [
    {
     "data": {
      "text/plain": [
       "array([17023928.00026005, 14010005.00026005, 17023929.00026005,\n",
       "       14010046.00026005, 17024232.00026005,               nan,\n",
       "       17024233.00026005, 14094912.00026005, 17024234.00026005,\n",
       "       17024235.00026005, 14094912.00026004, 17023929.00026006])"
      ]
     },
     "execution_count": 58,
     "metadata": {},
     "output_type": "execute_result"
    }
   ],
   "source": [
    "df['BenchMarkIndex'].unique()"
   ]
  },
  {
   "cell_type": "code",
   "execution_count": 27,
   "metadata": {},
   "outputs": [
    {
     "data": {
      "text/plain": [
       "True     404\n",
       "False     65\n",
       "dtype: int64"
      ]
     },
     "execution_count": 27,
     "metadata": {},
     "output_type": "execute_result"
    }
   ],
   "source": [
    "# check if the description is same as the scheme name\n",
    "check = df[df['scheme_name'].notnull()]['Description'] == df[df['scheme_name'].notnull()]['scheme_name']\n",
    "# count of false in check\n",
    "check.value_counts()"
   ]
  },
  {
   "cell_type": "code",
   "execution_count": 52,
   "metadata": {},
   "outputs": [],
   "source": [
    "categories = df['scheme_category'].unique()"
   ]
  },
  {
   "cell_type": "code",
   "execution_count": 49,
   "metadata": {},
   "outputs": [
    {
     "data": {
      "text/plain": [
       "array([17023928.00026005, 17023929.00026005, 14010005.00026005])"
      ]
     },
     "execution_count": 49,
     "metadata": {},
     "output_type": "execute_result"
    }
   ],
   "source": [
    "equity_largecap = df[df['scheme_category']=='Equity-LargeCap']\n",
    "equity_largecap['BenchMarkIndex'].unique()"
   ]
  },
  {
   "cell_type": "code",
   "execution_count": 51,
   "metadata": {},
   "outputs": [
    {
     "data": {
      "text/plain": [
       "False    8070\n",
       "True       79\n",
       "Name: scheme_category, dtype: int64"
      ]
     },
     "execution_count": 51,
     "metadata": {},
     "output_type": "execute_result"
    }
   ],
   "source": [
    "check = df.loc[df['BenchMarkIndex'].isin([17023928.00026005, 17023929.00026005, 14010005.00026005]), 'scheme_category'] =='Equity-LargeCap'\n",
    "check.value_counts()"
   ]
  },
  {
   "cell_type": "code",
   "execution_count": 57,
   "metadata": {},
   "outputs": [
    {
     "name": "stdout",
     "output_type": "stream",
     "text": [
      "There are multiple BenchMarkIndex for  nan\n",
      "[17023928.00026005 17023929.00026005 14010005.00026005]  are the unique BenchMarkIndex for  Equity-LargeCap\n",
      "[14010005.00026005 17023929.00026005 17023928.00026005]  are the unique BenchMarkIndex for  Hybrid-EquityOriented\n",
      "[17023929.00026005 17023928.00026005]  are the unique BenchMarkIndex for  Equity-TaxPlanning\n",
      "[17023929.00026005 14010005.00026005]  are the unique BenchMarkIndex for  Debt-UltraShortTerm\n",
      "[14010005.00026005 17023929.00026005]  are the unique BenchMarkIndex for  Hybrid-Debt-orientedConservative\n",
      "[17023928.00026005]  are the unique BenchMarkIndex for  Equity-Technology\n",
      "[17023929.00026005 17023928.00026005]  are the unique BenchMarkIndex for  Equity-Others\n",
      "[14010005.00026005 14010046.00026005 17023929.00026005]  are the unique BenchMarkIndex for  Debt-GiltMedium&LongTerm\n",
      "[14010005.00026005 17023929.00026005 17023928.00026005]  are the unique BenchMarkIndex for  Hybrid-Debt-orientedAggressive\n",
      "[17023929.00026005 14010005.00026005]  are the unique BenchMarkIndex for  Debt-Income\n",
      "[14010005.00026005 17023929.00026005]  are the unique BenchMarkIndex for  Hybrid-AssetAllocation\n",
      "[17023929.00026005 17023928.00026005]  are the unique BenchMarkIndex for  Equity-MultiCap\n",
      "[17023929.00026005 17023928.00026005]  are the unique BenchMarkIndex for  Equity-MidCap\n",
      "[14010005.00026005 17023929.00026005]  are the unique BenchMarkIndex for  Debt-ShortTerm\n",
      "[14010005.00026005 17023929.00026005]  are the unique BenchMarkIndex for  Debt-Liquid\n",
      "[17023929.00026005]  are the unique BenchMarkIndex for  Equity-FMCG\n",
      "[14010005.00026005 17023929.00026005]  are the unique BenchMarkIndex for  Debt-DynamicBond\n",
      "[14010005.00026005 17023929.00026005]  are the unique BenchMarkIndex for  Debt-CreditOpportunities\n",
      "[17023929.00026005 17023928.00026005]  are the unique BenchMarkIndex for  Equity-Banking\n",
      "[17023928.00026005 17023929.00026005]  are the unique BenchMarkIndex for  Equity-Infrastructure\n",
      "[17023929.00026005 14010005.00026005]  are the unique BenchMarkIndex for  Hybrid-Arbitrage\n",
      "[nan]  are the unique BenchMarkIndex for  GoldFund\n",
      "[17023928.00026005 17023929.00026005]  are the unique BenchMarkIndex for  Equity-SmallCap\n",
      "[17024233.00026005 14094912.00026005               nan 17024234.00026005\n",
      " 17024235.00026005 17023928.00026005]  are the unique BenchMarkIndex for  Equity-InternationalFunds\n",
      "[14010005.00026005 17023929.00026005 17023928.00026005]  are the unique BenchMarkIndex for  Hybrid-Others\n",
      "[17023928.00026005]  are the unique BenchMarkIndex for  Equity-Pharma\n",
      "[17023929.00026005]  are the unique BenchMarkIndex for  Equity-Large&MidCap\n"
     ]
    }
   ],
   "source": [
    "for category in categories:\n",
    "    # print(category)\n",
    "    cat_filter = df[df['scheme_category'] == category]\n",
    "    cap_unique = cat_filter['BenchMarkIndex'].unique()\n",
    "\n",
    "    check = df.loc[df['BenchMarkIndex'].isin(cap_unique), 'scheme_category'] == category\n",
    "    # print(check.value_counts())\n",
    "\n",
    "    if check.value_counts().get(True) == len(cat_filter):\n",
    "        # print(check.value_counts().get(True))\n",
    "        print(cap_unique, \" are the unique BenchMarkIndex for \", category)\n",
    "    else:\n",
    "        print(\"There are multiple BenchMarkIndex for \", category) \n",
    "        # print(check.value_counts().get(False))\n"
   ]
  },
  {
   "cell_type": "code",
   "execution_count": 22,
   "metadata": {},
   "outputs": [
    {
     "name": "stderr",
     "output_type": "stream",
     "text": [
      "C:\\Users\\Admin\\AppData\\Local\\Temp\\ipykernel_5228\\724550513.py:16: UserWarning: pandas only supports SQLAlchemy connectable (engine/connection) or database string URI or sqlite3 DBAPI2 connection. Other DBAPI2 objects are not tested. Please consider using SQLAlchemy.\n",
      "  sec_div  = pd.read_sql_query(sql, conn)\n"
     ]
    },
    {
     "data": {
      "text/plain": [
       "1061"
      ]
     },
     "execution_count": 22,
     "metadata": {},
     "output_type": "execute_result"
    }
   ],
   "source": [
    "import psycopg2\n",
    "import pandas as pd\n",
    "conn = psycopg2.connect(\n",
    "    host=\"192.168.29.162\",\n",
    "    port=5432,\n",
    "    database=\"BravisaDB\",\n",
    "    user=\"postgres\",\n",
    "    password=\"edsols\")\n",
    "\n",
    "cur = conn.cursor()\n",
    "\n",
    "sql = \"\"\" select * from public.\"IndustryDivisor\"\n",
    "            where \"IndexName\" = 'INDUSTRY-Consumer Staples Distribution & Retail'\n",
    "            order by \"Date\" \"\"\"\n",
    "\n",
    "sec_div  = pd.read_sql_query(sql, conn)\n",
    "\n",
    "# rename sec_div['IndexValue'] to ff_close_sum\n",
    "sec_div.rename(columns={'IndexValue':'ff_close_sum(Cr)', \"Divisor\":\"Divisor(Cr)\"}, inplace=True)\n",
    "# sec_div.rename()\n",
    "len(sec_div)"
   ]
  },
  {
   "cell_type": "code",
   "execution_count": 23,
   "metadata": {},
   "outputs": [],
   "source": [
    "sec_div['ff_close_sum(Cr)'] = sec_div['ff_close_sum(Cr)'].apply(lambda x: str(round(float(x/10000000), 2)) if x > 10000000 else x)\n",
    "sec_div['Divisor(Cr)'] = sec_div['Divisor(Cr)'].apply(lambda x: str(round(float(x/1000000), 2)) if x > 1000000 else x)"
   ]
  },
  {
   "cell_type": "code",
   "execution_count": 24,
   "metadata": {},
   "outputs": [],
   "source": [
    "sec_div.to_csv('INDUSTRY-Consumer Staples Distribution & Retail.csv', index=False)"
   ]
  },
  {
   "cell_type": "code",
   "execution_count": 50,
   "metadata": {},
   "outputs": [
    {
     "name": "stderr",
     "output_type": "stream",
     "text": [
      "C:\\Users\\Admin\\AppData\\Local\\Temp\\ipykernel_5228\\1776443147.py:16: UserWarning: pandas only supports SQLAlchemy connectable (engine/connection) or database string URI or sqlite3 DBAPI2 connection. Other DBAPI2 objects are not tested. Please consider using SQLAlchemy.\n",
      "  indexList  = pd.read_sql_query(sql, conn)\n"
     ]
    }
   ],
   "source": [
    "import psycopg2\n",
    "import pandas as pd\n",
    "conn = psycopg2.connect(\n",
    "    host=\"192.168.29.162\",\n",
    "    port=5432,\n",
    "    database=\"BravisaDB\",\n",
    "    user=\"postgres\",\n",
    "    password=\"edsols\")\n",
    "\n",
    "cur = conn.cursor()\n",
    "\n",
    "sql = \"\"\" select * from public.\"SubIndustryIndexList\"\n",
    "            where \"SubIndustryIndexName\" = 'SUBINDUSTRY-Trading'\n",
    "            order by \"GenDate\" \"\"\"\n",
    "\n",
    "indexList  = pd.read_sql_query(sql, conn)\n",
    "\n",
    "indexList.to_csv('IRS/IndexList - SUBINDUSTRY-Trading.csv', index=False)\n",
    "\n"
   ]
  },
  {
   "cell_type": "code",
   "execution_count": 52,
   "metadata": {},
   "outputs": [
    {
     "name": "stderr",
     "output_type": "stream",
     "text": [
      "C:\\Users\\Admin\\AppData\\Local\\Temp\\ipykernel_5228\\2763819712.py:16: UserWarning: pandas only supports SQLAlchemy connectable (engine/connection) or database string URI or sqlite3 DBAPI2 connection. Other DBAPI2 objects are not tested. Please consider using SQLAlchemy.\n",
      "  IndustryList  = pd.read_sql_query(sql, conn)\n"
     ]
    }
   ],
   "source": [
    "import psycopg2\n",
    "import pandas as pd\n",
    "conn = psycopg2.connect(\n",
    "    host=\"192.168.29.162\",\n",
    "    port=5432,\n",
    "    database=\"BravisaDB\",\n",
    "    user=\"postgres\",\n",
    "    password=\"edsols\")\n",
    "\n",
    "cur = conn.cursor()\n",
    "\n",
    "sql = \"\"\" select * from public.\"IndustryList\"\n",
    "            where \"SubIndustryIndexName\" = 'SUBINDUSTRY-Trading'\n",
    "            order by \"GenDate\" \"\"\"\n",
    "\n",
    "IndustryList  = pd.read_sql_query(sql, conn)\n",
    "\n",
    "col = ['FF_Open', 'FF_High', 'FF_Low', 'FF_Close', 'PAT', 'Equity', 'OS_Close', 'prev_pat',\n",
    "       'prev_equity',  'OS']\n",
    "\n",
    "# for c in col:\n",
    "#         IndustryList[c] = IndustryList[c].apply(lambda x: (round(float(x/10000000), 2)) if x > 10000000 else x)\n",
    "\n",
    "IndustryList.to_csv('IRS/IndustryList - SUBINDUSTRY-Trading.csv', index=False)"
   ]
  },
  {
   "cell_type": "markdown",
   "metadata": {},
   "source": [
    "# Resistance and support"
   ]
  },
  {
   "cell_type": "code",
   "execution_count": null,
   "metadata": {},
   "outputs": [],
   "source": [
    "import pandas as pd\n",
    "import psycopg2\n",
    "from datetime import datetime\n",
    "import warnings\n",
    "warnings.filterwarnings(\"ignore\")\n",
    "\n",
    "# connection to the database\n",
    "industry_list = []  # Initialize the 'industry_list' variable\n",
    "\n",
    "conn = psycopg2.connect(\n",
    "    host=\"192.168.1.162\",\n",
    "    port=5432,\n",
    "    database=\"BravisaDB\",\n",
    "    user=\"postgres\",\n",
    "    password=\"edsols\")\n",
    "\n",
    "cur = conn.cursor()"
   ]
  },
  {
   "cell_type": "code",
   "execution_count": 5,
   "metadata": {},
   "outputs": [
    {
     "name": "stderr",
     "output_type": "stream",
     "text": [
      "C:\\Users\\Admin\\AppData\\Local\\Temp\\ipykernel_5872\\1905138399.py:62: FutureWarning: save is not part of the public API, usage can give unexpected results and will be removed in a future version\n",
      "  writer.save()\n"
     ]
    }
   ],
   "source": [
    "# Let's generate a new Excel file with slight inconsistencies as per the user's request.\n",
    "import pandas as pd\n",
    "import numpy as np\n",
    "\n",
    "# Creating the Customers Table\n",
    "customers = pd.DataFrame({\n",
    "    \"CustomerID\": np.arange(1, 11),\n",
    "    \"CustomerName\": [\"John Doe\", \"Jane Smith\", \"Mark Taylor\", \"Emily Johnson\", \"Chris Brown\",\n",
    "                     \"Ava Davis\", \"Liam Wilson\", \"Mia White\", \"Noah Harris\", \"Sophia Clark\"],\n",
    "    \"Email\": [\"john.doe@example.com\", \"jane.smith@example.com\", \"mark.taylor@example.com\", \"emily.johnson@example.com\", \n",
    "              \"chris.brown@example.com\", \"ava.davis@example.com\", np.nan, \"mia.white@example.com\", \n",
    "              \"noah.harris@example.com\", \"sophia.clark@example.com\"],  # One missing email\n",
    "    \"PhoneNumber\": [\"123-456-7890\", \"234-567-8901\", \"345-678-9012\", \"456-789-0123\", \"567-890-1234\",\n",
    "                    \"678-901-2345\", \"789-012-3456\", \"890-123-4567\", \"901-234-5678\", np.nan],  # One missing phone number\n",
    "    \"Region\": [\"North\", \"South\", \"East\", \"West\", \"North\", \"South\", \"East\", \"West\", \"North\", \"south\"]  # One inconsistency in Region capitalization\n",
    "})\n",
    "\n",
    "# Creating the Sales Table\n",
    "sales = pd.DataFrame({\n",
    "    \"TransactionID\": np.arange(1, 21),\n",
    "    \"CustomerID\": np.random.choice(customers[\"CustomerID\"], 20),\n",
    "    \"ProductID\": np.random.randint(1, 6, 20),\n",
    "    \"Quantity\": np.random.randint(1, 11, 20),\n",
    "    \"SalesAmount\": [100.5, 200, 150, \"???\", 300, 400, 350, 250, 500, 600, 450, 550, 650, 700, 750, 800, 850, 900, 950, 1000],  # One incorrect entry\n",
    "    \"TransactionDate\": pd.to_datetime(np.random.choice(pd.date_range(\"2023-01-01\", \"2024-01-01\"), 20))\n",
    "})\n",
    "\n",
    "# Fixing the incorrect date\n",
    "sales[\"TransactionDate\"] = sales[\"TransactionDate\"].astype(str).replace(\"2024-02-30\", \"2024-02-28\")\n",
    "sales[\"TransactionDate\"] = pd.to_datetime(sales[\"TransactionDate\"])\n",
    "\n",
    "# Creating the Products Table\n",
    "products = pd.DataFrame({\n",
    "    \"ProductID\": np.arange(1, 6),\n",
    "    \"ProductName\": [\"Laptop\", \"Smartphone\", \"Tablet\", \"Monitor\", \"Wearable\"],\n",
    "    \"Category\": [\"Electronics\", \"Electronics\", \"Electronics\", \"Electronics\", \"Wearables\"],\n",
    "    \"Price\": [1000, 500, 300, 200, 150]\n",
    "})\n",
    "\n",
    "# Creating the Regions Table\n",
    "regions = pd.DataFrame({\n",
    "    \"Region\": [\"North\", \"South\", \"East\", \"West\"],\n",
    "    \"Manager\": [\"Alice\", \"Bob\", \"Charlie\", \"Diana\"],\n",
    "    \"RegionCode\": [\"NR\", \"SR\", \"ER\", \"WR\"]\n",
    "})\n",
    "\n",
    "# Create a dictionary to store the tables\n",
    "dataframes = {\"Customers\": customers, \"Sales\": sales, \"Products\": products, \"Regions\": regions}\n",
    "\n",
    "# Define the file path\n",
    "file_path = \"customer_profitability_analysis.xlsx\"\n",
    "\n",
    "# Create an Excel writer object\n",
    "writer = pd.ExcelWriter(file_path)\n",
    "\n",
    "# Iterate over the dataframes dictionary\n",
    "for sheet_name, df in dataframes.items():\n",
    "    # Write each dataframe to a separate sheet in the Excel file\n",
    "    df.to_excel(writer, sheet_name=sheet_name, index=False)\n",
    "\n",
    "# Save the Excel file\n",
    "writer.save()\n",
    "\n"
   ]
  },
  {
   "cell_type": "code",
   "execution_count": null,
   "metadata": {},
   "outputs": [],
   "source": []
  }
 ],
 "metadata": {
  "kernelspec": {
   "display_name": "base",
   "language": "python",
   "name": "python3"
  },
  "language_info": {
   "codemirror_mode": {
    "name": "ipython",
    "version": 3
   },
   "file_extension": ".py",
   "mimetype": "text/x-python",
   "name": "python",
   "nbconvert_exporter": "python",
   "pygments_lexer": "ipython3",
   "version": "3.10.9"
  }
 },
 "nbformat": 4,
 "nbformat_minor": 2
}
